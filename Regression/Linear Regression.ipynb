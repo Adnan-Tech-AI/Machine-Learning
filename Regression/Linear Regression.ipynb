{
 "cells": [
  {
   "cell_type": "code",
   "execution_count": 40,
   "id": "797313f8",
   "metadata": {},
   "outputs": [],
   "source": [
    "#importing the libraries \n",
    "import pandas as pd\n",
    "import sklearn \n",
    "import numpy as np"
   ]
  },
  {
   "cell_type": "code",
   "execution_count": 66,
   "id": "cca27b59",
   "metadata": {},
   "outputs": [],
   "source": [
    "#import the dataset \n",
    "data=pd.read_csv(\"D:/datasets/USA_Housing.csv\")"
   ]
  },
  {
   "cell_type": "code",
   "execution_count": 67,
   "id": "bf430995",
   "metadata": {},
   "outputs": [
    {
     "data": {
      "text/html": [
       "<div>\n",
       "<style scoped>\n",
       "    .dataframe tbody tr th:only-of-type {\n",
       "        vertical-align: middle;\n",
       "    }\n",
       "\n",
       "    .dataframe tbody tr th {\n",
       "        vertical-align: top;\n",
       "    }\n",
       "\n",
       "    .dataframe thead th {\n",
       "        text-align: right;\n",
       "    }\n",
       "</style>\n",
       "<table border=\"1\" class=\"dataframe\">\n",
       "  <thead>\n",
       "    <tr style=\"text-align: right;\">\n",
       "      <th></th>\n",
       "      <th>Avg. Area Income</th>\n",
       "      <th>Avg. Area House Age</th>\n",
       "      <th>Avg. Area Number of Rooms</th>\n",
       "      <th>Avg. Area Number of Bedrooms</th>\n",
       "      <th>Area Population</th>\n",
       "      <th>Price</th>\n",
       "      <th>Address</th>\n",
       "    </tr>\n",
       "  </thead>\n",
       "  <tbody>\n",
       "    <tr>\n",
       "      <th>0</th>\n",
       "      <td>79545.45857</td>\n",
       "      <td>5.682861</td>\n",
       "      <td>7.009188</td>\n",
       "      <td>4.09</td>\n",
       "      <td>23086.80050</td>\n",
       "      <td>1.059034e+06</td>\n",
       "      <td>208 Michael Ferry Apt. 674\\nLaurabury, NE 3701...</td>\n",
       "    </tr>\n",
       "    <tr>\n",
       "      <th>1</th>\n",
       "      <td>79248.64245</td>\n",
       "      <td>6.002900</td>\n",
       "      <td>6.730821</td>\n",
       "      <td>3.09</td>\n",
       "      <td>40173.07217</td>\n",
       "      <td>1.505891e+06</td>\n",
       "      <td>188 Johnson Views Suite 079\\nLake Kathleen, CA...</td>\n",
       "    </tr>\n",
       "    <tr>\n",
       "      <th>2</th>\n",
       "      <td>61287.06718</td>\n",
       "      <td>5.865890</td>\n",
       "      <td>8.512727</td>\n",
       "      <td>5.13</td>\n",
       "      <td>36882.15940</td>\n",
       "      <td>1.058988e+06</td>\n",
       "      <td>9127 Elizabeth Stravenue\\nDanieltown, WI 06482...</td>\n",
       "    </tr>\n",
       "    <tr>\n",
       "      <th>3</th>\n",
       "      <td>63345.24005</td>\n",
       "      <td>7.188236</td>\n",
       "      <td>5.586729</td>\n",
       "      <td>3.26</td>\n",
       "      <td>34310.24283</td>\n",
       "      <td>1.260617e+06</td>\n",
       "      <td>USS Barnett\\nFPO AP 44820</td>\n",
       "    </tr>\n",
       "    <tr>\n",
       "      <th>4</th>\n",
       "      <td>59982.19723</td>\n",
       "      <td>5.040555</td>\n",
       "      <td>7.839388</td>\n",
       "      <td>4.23</td>\n",
       "      <td>26354.10947</td>\n",
       "      <td>6.309435e+05</td>\n",
       "      <td>USNS Raymond\\nFPO AE 09386</td>\n",
       "    </tr>\n",
       "    <tr>\n",
       "      <th>...</th>\n",
       "      <td>...</td>\n",
       "      <td>...</td>\n",
       "      <td>...</td>\n",
       "      <td>...</td>\n",
       "      <td>...</td>\n",
       "      <td>...</td>\n",
       "      <td>...</td>\n",
       "    </tr>\n",
       "    <tr>\n",
       "      <th>4995</th>\n",
       "      <td>60567.94414</td>\n",
       "      <td>7.830362</td>\n",
       "      <td>6.137356</td>\n",
       "      <td>3.46</td>\n",
       "      <td>22837.36103</td>\n",
       "      <td>1.060194e+06</td>\n",
       "      <td>USNS Williams\\nFPO AP 30153-7653</td>\n",
       "    </tr>\n",
       "    <tr>\n",
       "      <th>4996</th>\n",
       "      <td>78491.27543</td>\n",
       "      <td>6.999135</td>\n",
       "      <td>6.576763</td>\n",
       "      <td>4.02</td>\n",
       "      <td>25616.11549</td>\n",
       "      <td>1.482618e+06</td>\n",
       "      <td>PSC 9258, Box 8489\\nAPO AA 42991-3352</td>\n",
       "    </tr>\n",
       "    <tr>\n",
       "      <th>4997</th>\n",
       "      <td>63390.68689</td>\n",
       "      <td>7.250591</td>\n",
       "      <td>4.805081</td>\n",
       "      <td>2.13</td>\n",
       "      <td>33266.14549</td>\n",
       "      <td>1.030730e+06</td>\n",
       "      <td>4215 Tracy Garden Suite 076\\nJoshualand, VA 01...</td>\n",
       "    </tr>\n",
       "    <tr>\n",
       "      <th>4998</th>\n",
       "      <td>68001.33124</td>\n",
       "      <td>5.534388</td>\n",
       "      <td>7.130144</td>\n",
       "      <td>5.44</td>\n",
       "      <td>42625.62016</td>\n",
       "      <td>1.198657e+06</td>\n",
       "      <td>USS Wallace\\nFPO AE 73316</td>\n",
       "    </tr>\n",
       "    <tr>\n",
       "      <th>4999</th>\n",
       "      <td>65510.58180</td>\n",
       "      <td>5.992305</td>\n",
       "      <td>6.792336</td>\n",
       "      <td>4.07</td>\n",
       "      <td>46501.28380</td>\n",
       "      <td>1.298950e+06</td>\n",
       "      <td>37778 George Ridges Apt. 509\\nEast Holly, NV 2...</td>\n",
       "    </tr>\n",
       "  </tbody>\n",
       "</table>\n",
       "<p>5000 rows × 7 columns</p>\n",
       "</div>"
      ],
      "text/plain": [
       "      Avg. Area Income  Avg. Area House Age  Avg. Area Number of Rooms  \\\n",
       "0          79545.45857             5.682861                   7.009188   \n",
       "1          79248.64245             6.002900                   6.730821   \n",
       "2          61287.06718             5.865890                   8.512727   \n",
       "3          63345.24005             7.188236                   5.586729   \n",
       "4          59982.19723             5.040555                   7.839388   \n",
       "...                ...                  ...                        ...   \n",
       "4995       60567.94414             7.830362                   6.137356   \n",
       "4996       78491.27543             6.999135                   6.576763   \n",
       "4997       63390.68689             7.250591                   4.805081   \n",
       "4998       68001.33124             5.534388                   7.130144   \n",
       "4999       65510.58180             5.992305                   6.792336   \n",
       "\n",
       "      Avg. Area Number of Bedrooms  Area Population         Price  \\\n",
       "0                             4.09      23086.80050  1.059034e+06   \n",
       "1                             3.09      40173.07217  1.505891e+06   \n",
       "2                             5.13      36882.15940  1.058988e+06   \n",
       "3                             3.26      34310.24283  1.260617e+06   \n",
       "4                             4.23      26354.10947  6.309435e+05   \n",
       "...                            ...              ...           ...   \n",
       "4995                          3.46      22837.36103  1.060194e+06   \n",
       "4996                          4.02      25616.11549  1.482618e+06   \n",
       "4997                          2.13      33266.14549  1.030730e+06   \n",
       "4998                          5.44      42625.62016  1.198657e+06   \n",
       "4999                          4.07      46501.28380  1.298950e+06   \n",
       "\n",
       "                                                Address  \n",
       "0     208 Michael Ferry Apt. 674\\nLaurabury, NE 3701...  \n",
       "1     188 Johnson Views Suite 079\\nLake Kathleen, CA...  \n",
       "2     9127 Elizabeth Stravenue\\nDanieltown, WI 06482...  \n",
       "3                             USS Barnett\\nFPO AP 44820  \n",
       "4                            USNS Raymond\\nFPO AE 09386  \n",
       "...                                                 ...  \n",
       "4995                   USNS Williams\\nFPO AP 30153-7653  \n",
       "4996              PSC 9258, Box 8489\\nAPO AA 42991-3352  \n",
       "4997  4215 Tracy Garden Suite 076\\nJoshualand, VA 01...  \n",
       "4998                          USS Wallace\\nFPO AE 73316  \n",
       "4999  37778 George Ridges Apt. 509\\nEast Holly, NV 2...  \n",
       "\n",
       "[5000 rows x 7 columns]"
      ]
     },
     "execution_count": 67,
     "metadata": {},
     "output_type": "execute_result"
    }
   ],
   "source": [
    "data"
   ]
  },
  {
   "cell_type": "code",
   "execution_count": 82,
   "id": "c38b823e",
   "metadata": {},
   "outputs": [],
   "source": [
    "X=data[[\"Avg. Area Number of Rooms\"]]"
   ]
  },
  {
   "cell_type": "code",
   "execution_count": 83,
   "id": "6dfba0d8",
   "metadata": {},
   "outputs": [
    {
     "data": {
      "text/html": [
       "<div>\n",
       "<style scoped>\n",
       "    .dataframe tbody tr th:only-of-type {\n",
       "        vertical-align: middle;\n",
       "    }\n",
       "\n",
       "    .dataframe tbody tr th {\n",
       "        vertical-align: top;\n",
       "    }\n",
       "\n",
       "    .dataframe thead th {\n",
       "        text-align: right;\n",
       "    }\n",
       "</style>\n",
       "<table border=\"1\" class=\"dataframe\">\n",
       "  <thead>\n",
       "    <tr style=\"text-align: right;\">\n",
       "      <th></th>\n",
       "      <th>Avg. Area Number of Rooms</th>\n",
       "    </tr>\n",
       "  </thead>\n",
       "  <tbody>\n",
       "    <tr>\n",
       "      <th>0</th>\n",
       "      <td>7.009188</td>\n",
       "    </tr>\n",
       "    <tr>\n",
       "      <th>1</th>\n",
       "      <td>6.730821</td>\n",
       "    </tr>\n",
       "    <tr>\n",
       "      <th>2</th>\n",
       "      <td>8.512727</td>\n",
       "    </tr>\n",
       "    <tr>\n",
       "      <th>3</th>\n",
       "      <td>5.586729</td>\n",
       "    </tr>\n",
       "    <tr>\n",
       "      <th>4</th>\n",
       "      <td>7.839388</td>\n",
       "    </tr>\n",
       "    <tr>\n",
       "      <th>...</th>\n",
       "      <td>...</td>\n",
       "    </tr>\n",
       "    <tr>\n",
       "      <th>4995</th>\n",
       "      <td>6.137356</td>\n",
       "    </tr>\n",
       "    <tr>\n",
       "      <th>4996</th>\n",
       "      <td>6.576763</td>\n",
       "    </tr>\n",
       "    <tr>\n",
       "      <th>4997</th>\n",
       "      <td>4.805081</td>\n",
       "    </tr>\n",
       "    <tr>\n",
       "      <th>4998</th>\n",
       "      <td>7.130144</td>\n",
       "    </tr>\n",
       "    <tr>\n",
       "      <th>4999</th>\n",
       "      <td>6.792336</td>\n",
       "    </tr>\n",
       "  </tbody>\n",
       "</table>\n",
       "<p>5000 rows × 1 columns</p>\n",
       "</div>"
      ],
      "text/plain": [
       "      Avg. Area Number of Rooms\n",
       "0                      7.009188\n",
       "1                      6.730821\n",
       "2                      8.512727\n",
       "3                      5.586729\n",
       "4                      7.839388\n",
       "...                         ...\n",
       "4995                   6.137356\n",
       "4996                   6.576763\n",
       "4997                   4.805081\n",
       "4998                   7.130144\n",
       "4999                   6.792336\n",
       "\n",
       "[5000 rows x 1 columns]"
      ]
     },
     "execution_count": 83,
     "metadata": {},
     "output_type": "execute_result"
    }
   ],
   "source": [
    "X"
   ]
  },
  {
   "cell_type": "code",
   "execution_count": 70,
   "id": "bf0b0dac",
   "metadata": {},
   "outputs": [],
   "source": [
    "y=data[\"Price\"].astype(int)"
   ]
  },
  {
   "cell_type": "code",
   "execution_count": 71,
   "id": "36967bff",
   "metadata": {
    "collapsed": true
   },
   "outputs": [
    {
     "data": {
      "text/plain": [
       "<matplotlib.collections.PathCollection at 0x29ff50e0c40>"
      ]
     },
     "execution_count": 71,
     "metadata": {},
     "output_type": "execute_result"
    },
    {
     "data": {
      "image/png": "[encoded data removed]",
      "text/plain": [
       "<Figure size 640x480 with 1 Axes>"
      ]
     },
     "metadata": {},
     "output_type": "display_data"
    }
   ],
   "source": [
    "import matplotlib.pyplot as plt\n",
    "\n",
    "plt.scatter(X,y)"
   ]
  },
  {
   "cell_type": "code",
   "execution_count": 49,
   "id": "ad617576",
   "metadata": {
    "collapsed": true
   },
   "outputs": [
    {
     "data": {
      "text/plain": [
       "0       1059033\n",
       "1       1505890\n",
       "2       1058987\n",
       "3       1260616\n",
       "4        630943\n",
       "         ...   \n",
       "4995    1060193\n",
       "4996    1482617\n",
       "4997    1030729\n",
       "4998    1198656\n",
       "4999    1298950\n",
       "Name: Price, Length: 5000, dtype: int32"
      ]
     },
     "execution_count": 49,
     "metadata": {},
     "output_type": "execute_result"
    }
   ],
   "source": [
    "y"
   ]
  },
  {
   "cell_type": "code",
   "execution_count": 84,
   "id": "05c3a8e5",
   "metadata": {},
   "outputs": [],
   "source": [
    "from sklearn.model_selection import train_test_split"
   ]
  },
  {
   "cell_type": "code",
   "execution_count": 85,
   "id": "da1b3be5",
   "metadata": {},
   "outputs": [],
   "source": [
    "X_train,X_test,y_train,y_test=train_test_split(X,y,test_size=0.2)"
   ]
  },
  {
   "cell_type": "code",
   "execution_count": 86,
   "id": "acc38753",
   "metadata": {},
   "outputs": [
    {
     "data": {
      "text/plain": [
       "4000"
      ]
     },
     "execution_count": 86,
     "metadata": {},
     "output_type": "execute_result"
    }
   ],
   "source": [
    "len(X_train)"
   ]
  },
  {
   "cell_type": "code",
   "execution_count": 87,
   "id": "e4eed13a",
   "metadata": {},
   "outputs": [
    {
     "data": {
      "text/plain": [
       "4000"
      ]
     },
     "execution_count": 87,
     "metadata": {},
     "output_type": "execute_result"
    }
   ],
   "source": [
    "len(y_train)"
   ]
  },
  {
   "cell_type": "code",
   "execution_count": 88,
   "id": "71fa2473",
   "metadata": {},
   "outputs": [
    {
     "data": {
      "text/plain": [
       "1000"
      ]
     },
     "execution_count": 88,
     "metadata": {},
     "output_type": "execute_result"
    }
   ],
   "source": [
    "len(X_test)"
   ]
  },
  {
   "cell_type": "code",
   "execution_count": 89,
   "id": "95f1e945",
   "metadata": {},
   "outputs": [
    {
     "data": {
      "text/plain": [
       "1000"
      ]
     },
     "execution_count": 89,
     "metadata": {},
     "output_type": "execute_result"
    }
   ],
   "source": [
    "len(y_test)"
   ]
  },
  {
   "cell_type": "code",
   "execution_count": 90,
   "id": "b2d918a9",
   "metadata": {},
   "outputs": [],
   "source": [
    "from sklearn.linear_model import LinearRegression"
   ]
  },
  {
   "cell_type": "code",
   "execution_count": 91,
   "id": "dcb37d9d",
   "metadata": {},
   "outputs": [],
   "source": [
    "simple_model=LinearRegression()"
   ]
  },
  {
   "cell_type": "code",
   "execution_count": 92,
   "id": "151bc360",
   "metadata": {},
   "outputs": [
    {
     "data": {
      "text/html": [
       "<style>#sk-container-id-5 {color: black;background-color: white;}#sk-container-id-5 pre{padding: 0;}#sk-container-id-5 div.sk-toggleable {background-color: white;}#sk-container-id-5 label.sk-toggleable__label {cursor: pointer;display: block;width: 100%;margin-bottom: 0;padding: 0.3em;box-sizing: border-box;text-align: center;}#sk-container-id-5 label.sk-toggleable__label-arrow:before {content: \"▸\";float: left;margin-right: 0.25em;color: #696969;}#sk-container-id-5 label.sk-toggleable__label-arrow:hover:before {color: black;}#sk-container-id-5 div.sk-estimator:hover label.sk-toggleable__label-arrow:before {color: black;}#sk-container-id-5 div.sk-toggleable__content {max-height: 0;max-width: 0;overflow: hidden;text-align: left;background-color: #f0f8ff;}#sk-container-id-5 div.sk-toggleable__content pre {margin: 0.2em;color: black;border-radius: 0.25em;background-color: #f0f8ff;}#sk-container-id-5 input.sk-toggleable__control:checked~div.sk-toggleable__content {max-height: 200px;max-width: 100%;overflow: auto;}#sk-container-id-5 input.sk-toggleable__control:checked~label.sk-toggleable__label-arrow:before {content: \"▾\";}#sk-container-id-5 div.sk-estimator input.sk-toggleable__control:checked~label.sk-toggleable__label {background-color: #d4ebff;}#sk-container-id-5 div.sk-label input.sk-toggleable__control:checked~label.sk-toggleable__label {background-color: #d4ebff;}#sk-container-id-5 input.sk-hidden--visually {border: 0;clip: rect(1px 1px 1px 1px);clip: rect(1px, 1px, 1px, 1px);height: 1px;margin: -1px;overflow: hidden;padding: 0;position: absolute;width: 1px;}#sk-container-id-5 div.sk-estimator {font-family: monospace;background-color: #f0f8ff;border: 1px dotted black;border-radius: 0.25em;box-sizing: border-box;margin-bottom: 0.5em;}#sk-container-id-5 div.sk-estimator:hover {background-color: #d4ebff;}#sk-container-id-5 div.sk-parallel-item::after {content: \"\";width: 100%;border-bottom: 1px solid gray;flex-grow: 1;}#sk-container-id-5 div.sk-label:hover label.sk-toggleable__label {background-color: #d4ebff;}#sk-container-id-5 div.sk-serial::before {content: \"\";position: absolute;border-left: 1px solid gray;box-sizing: border-box;top: 0;bottom: 0;left: 50%;z-index: 0;}#sk-container-id-5 div.sk-serial {display: flex;flex-direction: column;align-items: center;background-color: white;padding-right: 0.2em;padding-left: 0.2em;position: relative;}#sk-container-id-5 div.sk-item {position: relative;z-index: 1;}#sk-container-id-5 div.sk-parallel {display: flex;align-items: stretch;justify-content: center;background-color: white;position: relative;}#sk-container-id-5 div.sk-item::before, #sk-container-id-5 div.sk-parallel-item::before {content: \"\";position: absolute;border-left: 1px solid gray;box-sizing: border-box;top: 0;bottom: 0;left: 50%;z-index: -1;}#sk-container-id-5 div.sk-parallel-item {display: flex;flex-direction: column;z-index: 1;position: relative;background-color: white;}#sk-container-id-5 div.sk-parallel-item:first-child::after {align-self: flex-end;width: 50%;}#sk-container-id-5 div.sk-parallel-item:last-child::after {align-self: flex-start;width: 50%;}#sk-container-id-5 div.sk-parallel-item:only-child::after {width: 0;}#sk-container-id-5 div.sk-dashed-wrapped {border: 1px dashed gray;margin: 0 0.4em 0.5em 0.4em;box-sizing: border-box;padding-bottom: 0.4em;background-color: white;}#sk-container-id-5 div.sk-label label {font-family: monospace;font-weight: bold;display: inline-block;line-height: 1.2em;}#sk-container-id-5 div.sk-label-container {text-align: center;}#sk-container-id-5 div.sk-container {/* jupyter's `normalize.less` sets `[hidden] { display: none; }` but bootstrap.min.css set `[hidden] { display: none !important; }` so we also need the `!important` here to be able to override the default hidden behavior on the sphinx rendered scikit-learn.org. See: https://github.com/scikit-learn/scikit-learn/issues/21755 */display: inline-block !important;position: relative;}#sk-container-id-5 div.sk-text-repr-fallback {display: none;}</style><div id=\"sk-container-id-5\" class=\"sk-top-container\"><div class=\"sk-text-repr-fallback\"><pre>LinearRegression()</pre><b>In a Jupyter environment, please rerun this cell to show the HTML representation or trust the notebook. <br />On GitHub, the HTML representation is unable to render, please try loading this page with nbviewer.org.</b></div><div class=\"sk-container\" hidden><div class=\"sk-item\"><div class=\"sk-estimator sk-toggleable\"><input class=\"sk-toggleable__control sk-hidden--visually\" id=\"sk-estimator-id-5\" type=\"checkbox\" checked><label for=\"sk-estimator-id-5\" class=\"sk-toggleable__label sk-toggleable__label-arrow\">LinearRegression</label><div class=\"sk-toggleable__content\"><pre>LinearRegression()</pre></div></div></div></div></div>"
      ],
      "text/plain": [
       "LinearRegression()"
      ]
     },
     "execution_count": 92,
     "metadata": {},
     "output_type": "execute_result"
    }
   ],
   "source": [
    "simple_model.fit(X_train,y_train)"
   ]
  },
  {
   "cell_type": "markdown",
   "id": "eccebeb3",
   "metadata": {},
   "source": [
    "# Evaluating The Model"
   ]
  },
  {
   "cell_type": "code",
   "execution_count": 93,
   "id": "ce3d079d",
   "metadata": {},
   "outputs": [],
   "source": [
    "predicted_values=simple_model.predict(X_test)"
   ]
  },
  {
   "cell_type": "code",
   "execution_count": 94,
   "id": "1869b722",
   "metadata": {
    "collapsed": true
   },
   "outputs": [
    {
     "data": {
      "text/plain": [
       "array([1272409.2527751 , 1167974.07243154, 1358087.16905992,\n",
       "       1158769.88935029, 1024876.55428525, 1227441.14691706,\n",
       "       1403223.95904735, 1168632.42539621, 1093710.16569665,\n",
       "       1397480.90493374, 1196596.37308705, 1252379.55642402,\n",
       "       1339640.47540493, 1241307.46208258, 1391519.97455663,\n",
       "       1206033.54144773, 1252033.3597558 , 1351063.04902962,\n",
       "       1155496.4727983 , 1188179.58139975, 1310719.99295542,\n",
       "       1045806.11020877, 1060019.06810733, 1022432.19546281,\n",
       "       1229124.05727189, 1219548.97632224, 1159787.72861846,\n",
       "       1113883.828456  , 1388235.01554321, 1364021.71102355,\n",
       "       1210911.12757462, 1254681.25306656, 1418632.40196005,\n",
       "       1285310.04603304, 1346663.53936725, 1359922.23754169,\n",
       "       1233864.70565956, 1184481.34420135, 1344029.38626229,\n",
       "       1010652.33697597,  955475.75961917, 1263865.23903538,\n",
       "       1123068.64151056, 1283595.99986887, 1343123.07613743,\n",
       "       1308088.24520386, 1361164.7465215 , 1315468.42061643,\n",
       "        981979.25436557, 1213423.20079211, 1021133.17465746,\n",
       "       1321290.89737336, 1230625.03880359, 1296289.64702695,\n",
       "       1230258.61024816, 1127750.90439252, 1220740.63067824,\n",
       "       1359181.17323102, 1187924.52440348, 1215826.43454124,\n",
       "       1233324.33204403, 1303742.13681299, 1263186.19344626,\n",
       "       1210428.86634975, 1082902.59553131, 1007202.41161763,\n",
       "       1282973.79710131, 1250499.62891017, 1510511.11838791,\n",
       "       1378701.13903661, 1401465.61036344, 1296644.17948086,\n",
       "       1258478.64373797, 1090411.94604622, 1377305.80520102,\n",
       "       1038100.84262009, 1212069.9306029 , 1236267.63047906,\n",
       "       1232978.6284617 , 1359138.0058024 ,  886674.37520649,\n",
       "       1454015.63781952, 1235487.59944339, 1358212.20700063,\n",
       "       1314253.20939384, 1336493.45797874, 1069129.38718241,\n",
       "       1147742.83611765, 1129338.66777052, 1131137.30716356,\n",
       "       1013409.77380042, 1172107.8081045 , 1424257.31994908,\n",
       "       1342538.64446556, 1372857.0442527 , 1127245.21858394,\n",
       "       1082225.76155025, 1345069.42410022, 1157211.15773284,\n",
       "       1280164.31152564, 1111412.08638346, 1293028.00087886,\n",
       "       1027186.44426388, 1202685.7592711 , 1154703.20769773,\n",
       "       1170287.12691712, 1183008.54747315, 1353150.40384555,\n",
       "       1129227.38216635, 1220802.16867569, 1165454.68333516,\n",
       "       1276669.29607339, 1204466.18152034, 1294785.40151618,\n",
       "       1191348.19698161, 1280084.17536346, 1320417.17354833,\n",
       "       1100059.49294588, 1419696.71260958, 1067186.82447411,\n",
       "       1216001.65402273, 1343800.186815  , 1313871.18301123,\n",
       "       1254652.44982614, 1126824.27319059, 1281995.71975734,\n",
       "       1154199.47632543, 1123669.08345494, 1400467.48540404,\n",
       "       1291784.69184754, 1399593.57141515,  924636.54721575,\n",
       "       1139766.93981551, 1308632.91079242, 1258469.2466854 ,\n",
       "       1133945.50976856, 1305978.40495492, 1487055.98368438,\n",
       "       1395593.63508443, 1376997.42768933, 1117528.30069161,\n",
       "       1196294.72109134, 1207488.54976732, 1422428.41145952,\n",
       "       1344559.78713477, 1000444.10312428, 1304514.33855044,\n",
       "       1198637.47614586, 1193367.67138459, 1406942.85455752,\n",
       "       1153342.80786545, 1163773.0798659 , 1314294.81854164,\n",
       "       1309149.21319778, 1159991.10841089, 1119679.81836711,\n",
       "       1162677.43353856, 1430356.20265779, 1463301.91877767,\n",
       "       1244735.1333008 , 1188712.12710344, 1195335.42075393,\n",
       "       1041967.57343741, 1342621.70494594, 1237532.44489473,\n",
       "       1289807.67493578, 1175315.07940216, 1186474.87059464,\n",
       "       1322199.13235858, 1107467.97678002, 1194871.11522642,\n",
       "       1179831.27851114, 1081728.21292974, 1245096.62718478,\n",
       "       1077984.71338087, 1313623.65608813, 1270479.17341191,\n",
       "       1196275.93784611, 1105730.7291223 , 1263391.34421189,\n",
       "       1143172.26493098, 1047407.22676403, 1135884.61267291,\n",
       "       1297175.56086411, 1354025.18743555,  938215.18373272,\n",
       "       1163192.0872024 , 1236218.62827773, 1353557.21056702,\n",
       "       1202601.71030831, 1235625.58412365, 1243716.76293707,\n",
       "       1344264.73992523, 1481097.19582786, 1311058.85537535,\n",
       "       1242255.81355635, 1281228.37782731, 1227685.63572401,\n",
       "       1244424.72128991, 1238404.26996937, 1170441.81332232,\n",
       "        991719.99761831, 1292874.19701422, 1178455.45021999,\n",
       "       1213150.00833238, 1092439.56537783, 1321849.42204902,\n",
       "       1148290.29408814, 1230896.07360818, 1302990.33344279,\n",
       "       1365661.73041522, 1296071.70456423, 1138204.38065925,\n",
       "       1180121.08454575, 1335541.08787806, 1210346.62163306,\n",
       "       1286210.270221  , 1083215.69455993, 1240449.38206603,\n",
       "       1276709.58400979, 1221876.41902644, 1347995.73937702,\n",
       "       1205368.0442831 , 1275332.32671689, 1386558.23294746,\n",
       "       1454573.47566396, 1294976.39893752, 1192413.0517817 ,\n",
       "       1317669.09819294, 1167472.24454639, 1240436.10132664,\n",
       "       1210779.54388403, 1198510.68167331, 1414047.31419992,\n",
       "       1302968.20615559, 1152873.67973147, 1190181.34872786,\n",
       "       1218352.53690731, 1254456.31878914, 1103617.30441158,\n",
       "       1292617.09754711, 1107460.08786786, 1354996.98498177,\n",
       "       1337518.10917999, 1411542.33157605, 1387375.50051732,\n",
       "       1396789.181561  , 1085090.72021311, 1324978.05585137,\n",
       "       1083758.9466279 , 1237936.86983111, 1176124.36921659,\n",
       "       1052795.29173006, 1237115.19221563, 1149610.16579528,\n",
       "       1047845.50121512, 1239555.00501259, 1256756.96514023,\n",
       "       1132861.37632674, 1207618.78694523, 1148772.53659701,\n",
       "       1197769.080375  , 1304190.96755373, 1228885.17240691,\n",
       "       1245375.03216778, 1404672.19344351, 1279327.22324305,\n",
       "       1485989.33769318, 1229746.51709571, 1281269.42549493,\n",
       "       1306803.6966081 , 1355514.19326494, 1140347.10955238,\n",
       "       1215198.04151239, 1012167.0696889 , 1385724.24505218,\n",
       "       1373623.13544517, 1205907.07531401, 1362382.99678449,\n",
       "       1191870.3476768 , 1156036.25928579, 1019109.01004642,\n",
       "       1247196.86011491, 1308067.71721094, 1000904.99667763,\n",
       "       1257648.66060589, 1023456.38465598, 1205104.40715327,\n",
       "       1218315.93140291, 1246604.05279918, 1264381.11282109,\n",
       "       1143413.32928645, 1203134.03141992, 1142727.71680528,\n",
       "       1173108.65612727, 1273883.35754419, 1278992.88455115,\n",
       "        884518.6842082 , 1283675.2143255 , 1243599.97459601,\n",
       "       1333451.37808021, 1315045.48081312, 1360359.22809786,\n",
       "       1216891.70224878, 1099195.27927817, 1065876.53732619,\n",
       "       1154194.87311214, 1093386.34147221, 1277244.31717559,\n",
       "       1350220.17091584, 1240105.68028766, 1114480.2055611 ,\n",
       "       1086369.5179116 , 1241611.16232567, 1089082.9991556 ,\n",
       "       1297989.12324239, 1118943.12170221, 1282774.64909031,\n",
       "       1412095.17940974, 1189639.13297209, 1332250.61942696,\n",
       "       1262718.21114777, 1189014.65043323, 1255351.54603449,\n",
       "       1295496.64106219, 1201064.37466745, 1249955.75332191,\n",
       "       1267651.17273823, 1235483.66965974, 1212885.60927625,\n",
       "       1410342.63846431, 1351049.89987993, 1267509.97445039,\n",
       "       1329267.37491147, 1391102.50745217, 1090562.03039344,\n",
       "       1116766.65766995, 1276916.74431995, 1043435.23678102,\n",
       "       1131382.28362646, 1501004.69907118, 1288291.24218562,\n",
       "       1236665.2301963 , 1197299.85415529, 1206793.26642534,\n",
       "       1244367.05242239, 1276740.61757428, 1291755.951687  ,\n",
       "        947846.63902613, 1351304.73759855, 1358283.89057537,\n",
       "       1176346.20241352, 1370564.43827477, 1137885.51721624,\n",
       "       1253901.42062851, 1422805.35159414, 1359544.66822577,\n",
       "       1203790.26104213, 1292157.69827045, 1149962.65034841,\n",
       "       1240361.71918108, 1230764.16781744, 1403196.78132673,\n",
       "       1261459.79182969, 1090825.45113389, 1389866.23067137,\n",
       "       1238550.12172645, 1391998.026182  , 1286270.98378994,\n",
       "       1185899.07705283, 1229947.26209037, 1148099.89962258,\n",
       "       1243454.3855562 , 1471077.69233459, 1328638.60490528,\n",
       "       1295144.34031873, 1286197.38748557, 1312861.48497471,\n",
       "       1214467.49836996, 1207300.5238008 , 1217164.42264924,\n",
       "       1049033.41525815, 1261876.78872337, 1190517.89498425,\n",
       "       1331981.13989938, 1400726.84927684, 1244271.00684619,\n",
       "       1350372.43244293, 1226219.31207675, 1343546.67735517,\n",
       "       1293011.07155803, 1125456.69103315, 1165849.91998331,\n",
       "       1311723.99566503, 1351873.95315736, 1380637.46596443,\n",
       "       1356611.49676755, 1481538.02455168,  947967.41202803,\n",
       "       1264622.62243266, 1053008.40107299, 1093795.04625087,\n",
       "       1330782.03368462, 1179561.03104965, 1173792.28840877,\n",
       "       1182311.96625701, 1141818.14119946, 1216404.44049984,\n",
       "       1169141.37818766, 1295146.83278242, 1241907.42341841,\n",
       "       1158218.69938505, 1149995.04278739, 1095868.39167401,\n",
       "       1254167.19207624, 1291513.31391617, 1296761.85244205,\n",
       "       1206268.17350466,  961912.58558394, 1113090.66583134,\n",
       "       1321866.74590788, 1311540.8611614 , 1359034.615118  ,\n",
       "       1172682.90441731, 1122495.99803434, 1202024.65759519,\n",
       "       1460522.99863527, 1398844.89107631, 1259219.9538984 ,\n",
       "       1137734.49949485, 1126870.08026927, 1279959.53357822,\n",
       "       1081056.1740588 , 1110442.66935149, 1016518.98870652,\n",
       "       1004992.82210282, 1504961.39357139,  978570.72638688,\n",
       "       1010287.2904012 , 1467183.52847336, 1105540.69626847,\n",
       "       1488632.18715578, 1202087.68270642, 1324828.89748433,\n",
       "       1358139.28747629, 1303723.31671341, 1410182.41859099,\n",
       "       1132319.63147492, 1162025.35147575, 1354376.14155082,\n",
       "       1176486.01779646, 1277397.66249808, 1381420.52055935,\n",
       "       1161676.5070703 , 1116539.35165863, 1049735.46616934,\n",
       "        969177.10647574, 1155217.09724019, 1248316.93568269,\n",
       "       1451845.24897978, 1229324.97533184, 1208676.81791255,\n",
       "       1068018.0189477 , 1204278.95375683, 1106455.68322625,\n",
       "       1289547.65669595, 1316884.93611878, 1437455.64952985,\n",
       "       1371302.76588942, 1202238.6869107 , 1302391.74195688,\n",
       "       1217385.00233587, 1286756.29098706, 1389317.02286983,\n",
       "       1349351.1123442 , 1062196.17033229, 1182757.00804627,\n",
       "       1183941.18454905, 1237908.1421479 , 1223047.45019206,\n",
       "       1256206.70173284, 1138397.52603113, 1276451.28694934,\n",
       "       1117048.53400999, 1317417.0067594 , 1055512.60617389,\n",
       "       1373074.30427437, 1407752.2133439 , 1018532.65202062,\n",
       "       1211838.62629809, 1024760.81785306, 1271935.96287142,\n",
       "       1295659.28142346, 1375793.35480107, 1222161.85036789,\n",
       "       1237106.47818176, 1292733.18184286, 1178901.77705947,\n",
       "       1267541.11915561, 1352951.75608337, 1397505.07573155,\n",
       "       1436082.38960619, 1246364.92404846, 1288253.45514668,\n",
       "       1303102.15834521, 1178873.23376358, 1142368.63185614,\n",
       "       1256435.33149724, 1410539.23127833, 1185885.9262857 ,\n",
       "       1236651.32882489, 1131752.93633829, 1139635.2143685 ,\n",
       "       1372016.64300594, 1199552.16618921, 1118837.60247646,\n",
       "       1216269.16259311, 1248051.17578806, 1291417.86621239,\n",
       "       1197500.90623109, 1225859.52966756, 1345192.21681336,\n",
       "       1214256.04481593, 1157319.51208695, 1397011.38665191,\n",
       "       1250803.05280334, 1346053.74045953,  980229.34394327,\n",
       "       1260595.4806539 , 1220400.11142964, 1321674.8394894 ,\n",
       "       1442783.79936102, 1187614.98742365, 1130986.5149585 ,\n",
       "       1250623.33986292, 1282745.92082945, 1309332.5368255 ,\n",
       "       1214424.50181155, 1284871.90709969, 1253841.64563263,\n",
       "       1348835.12707117, 1203934.03278084, 1253390.46360696,\n",
       "       1238537.75587628, 1180994.36230596, 1330346.21287884,\n",
       "       1032588.11472667, 1218611.01835508, 1234785.91996405,\n",
       "       1338574.90835683, 1185551.51007257, 1006156.97964184,\n",
       "       1366966.02243353, 1312678.22292497, 1299943.01179167,\n",
       "       1307244.9697793 , 1284768.95936078, 1377143.10522581,\n",
       "       1184767.7146935 , 1203862.0509053 , 1228873.24592076,\n",
       "        961999.18466035, 1299402.07403874, 1338405.45051699,\n",
       "       1221501.54978326, 1235706.2981714 , 1255528.81665162,\n",
       "       1263166.37180928, 1267720.24473692, 1161226.67999106,\n",
       "       1243711.81567275, 1258651.12409728,  961970.30979077,\n",
       "       1069134.72263056, 1284814.00416656, 1112142.67539165,\n",
       "       1153182.52930243, 1321695.47515712, 1259948.96336809,\n",
       "       1296229.02368765, 1476991.41193256, 1273150.29421065,\n",
       "       1089890.42291489, 1259119.68139306, 1287451.2717536 ,\n",
       "       1076879.89701918, 1180694.58583892, 1364302.00343491,\n",
       "       1213817.05268686, 1192688.85027201, 1254927.76354877,\n",
       "       1182630.25782205, 1157011.71465592, 1255524.44403802,\n",
       "       1384300.82634732, 1255181.07394886, 1219219.64658816,\n",
       "       1202014.93543866, 1239378.37039308, 1285154.20119947,\n",
       "       1020631.17451573, 1328566.98672103, 1388016.00961853,\n",
       "       1240899.53956366, 1173968.37910879, 1166662.28511484,\n",
       "       1161872.56255009, 1178718.14207597, 1196446.34407913,\n",
       "       1294358.3471953 , 1247664.74894889, 1134585.0259972 ,\n",
       "       1228931.71992314, 1269632.47677073, 1073730.62362105,\n",
       "       1241218.00338527, 1255731.01976181, 1157182.27304314,\n",
       "       1223335.95742825, 1242680.08820371, 1302945.57249643,\n",
       "       1297192.30002108, 1279841.42298598, 1095181.89919396,\n",
       "       1193445.84987562,  992125.08466229, 1268673.91236517,\n",
       "       1095768.31037232, 1126530.12816188, 1338879.58009928,\n",
       "       1488679.31140228, 1248627.7964156 , 1296165.61663125,\n",
       "       1326575.36185087, 1163475.39866731, 1277226.49792021,\n",
       "       1291139.49970118, 1031740.74731307, 1269409.57167809,\n",
       "       1241843.21365329, 1207271.01697718, 1411669.19952625,\n",
       "       1384872.20244954, 1101805.3149606 , 1308054.30199357,\n",
       "       1250305.63715889, 1141238.47875878, 1186117.60075152,\n",
       "       1244584.26819573, 1243075.40641668, 1341618.54676724,\n",
       "       1162590.11793949, 1102230.67398102, 1143804.41825966,\n",
       "       1219141.19775482, 1274934.58674514, 1219998.35086694,\n",
       "       1200243.3562713 , 1271220.71798454, 1092140.37511459,\n",
       "       1014981.09146994, 1326960.6685024 , 1122872.77319084,\n",
       "       1286208.1283936 , 1091262.05154221, 1214146.63254535,\n",
       "       1266988.0962926 , 1196432.36899901, 1124721.91148805,\n",
       "       1173365.99428122, 1098242.82899904, 1237830.20072628,\n",
       "       1447364.07144652, 1287263.62703906, 1301495.87640329,\n",
       "       1031145.17753792, 1186974.84178266, 1329419.45828991,\n",
       "       1256261.28661844, 1384723.35717124, 1167995.98055662,\n",
       "       1137182.67203009, 1282141.67040887, 1308962.08744806,\n",
       "       1239173.68983821, 1396478.46373982, 1145689.06093625,\n",
       "       1228636.71141646, 1332872.01417138, 1454243.94756332,\n",
       "       1382533.07598961, 1338886.44656295, 1137887.9149446 ,\n",
       "       1275667.11748121, 1357589.49370201, 1072238.33371023,\n",
       "       1408858.48805217, 1076621.1343692 , 1337252.63453116,\n",
       "       1148921.34606072, 1277599.27986658, 1246399.87954051,\n",
       "       1285705.99608452, 1171786.94331966, 1116925.22660668,\n",
       "       1475579.68541718, 1165240.93360443, 1187152.88830533,\n",
       "       1219281.61470717, 1063184.58954055, 1417211.3404322 ,\n",
       "       1413301.29361352, 1174056.0220069 , 1218560.72971715,\n",
       "       1203173.72055965, 1356893.14643595, 1113817.10173464,\n",
       "       1352932.333028  , 1283067.02799812, 1203325.1871186 ,\n",
       "       1236326.62448604, 1184670.87345598, 1328232.7114556 ,\n",
       "       1244833.11933403, 1251147.47803623, 1265506.00360137,\n",
       "       1308877.79286657, 1322752.16261557, 1352196.44207563,\n",
       "        980316.33663346, 1149303.95414143, 1086363.86406028,\n",
       "       1195847.81844584, 1323181.99938272, 1234437.75638221,\n",
       "       1202803.08205812, 1130403.06391292, 1045062.50641332,\n",
       "       1315241.26595059, 1338299.12673404, 1292289.55415185,\n",
       "       1273617.06482103, 1353507.63244414, 1402332.24971798,\n",
       "       1314520.60924964, 1213916.52352327, 1188678.82116162,\n",
       "       1235688.58069875, 1336671.00818066, 1084486.60115116,\n",
       "       1305253.88709567, 1246420.44785371, 1501980.35858442,\n",
       "       1318100.13151364, 1281093.96039474, 1317504.47139333,\n",
       "       1279966.90017517, 1045606.96681901, 1313260.26021889,\n",
       "       1278829.66584219, 1215246.33701118, 1364911.48209096,\n",
       "       1294477.10418294, 1299790.56218027, 1430962.75919073,\n",
       "       1025044.89782953, 1343755.5958146 , 1233299.23919408,\n",
       "       1409459.21789956, 1148975.43947787, 1372799.37827344,\n",
       "       1346124.76146455, 1104931.35971543, 1232744.80858702,\n",
       "       1318478.24012781, 1208264.77602376, 1417261.32811213,\n",
       "       1258429.8668219 , 1323498.08546282, 1310311.02268674,\n",
       "       1282880.07773984, 1222031.45988046, 1231434.63431279,\n",
       "       1188761.63590778, 1408028.97443769, 1219373.22355011,\n",
       "       1207993.58247971, 1167536.16871911, 1147859.02901244,\n",
       "       1411685.9599409 , 1178975.03682232, 1332186.76711446,\n",
       "       1160640.26904375, 1299912.85106314, 1398783.47346205,\n",
       "       1261263.83478223, 1305092.22967132, 1117353.38956211,\n",
       "       1196303.22763171, 1301557.49966255, 1137402.5812909 ,\n",
       "       1049238.14468258, 1163722.1894275 , 1223174.43217126,\n",
       "       1417417.88935282, 1269968.03096326, 1195745.11990707,\n",
       "       1133105.98389946, 1334511.38266194, 1075587.24554803,\n",
       "       1328400.69639195,  998357.79351642, 1039052.83551238,\n",
       "       1285408.2545788 , 1300579.79097769, 1176219.28027933,\n",
       "       1608773.74843583, 1259332.53529717, 1243787.40500072,\n",
       "       1173907.09423954, 1527044.30870704, 1249078.28075015,\n",
       "       1282992.3080402 , 1283463.24434833, 1052920.23967219,\n",
       "       1226579.11008262, 1117774.05652597, 1346903.4937018 ,\n",
       "       1234547.32854756, 1279839.04258726, 1068058.44378822,\n",
       "       1038010.35049886, 1333944.7147906 , 1131830.8496859 ,\n",
       "       1298721.77366848, 1300735.2078848 , 1048504.86045396,\n",
       "       1191933.53372258, 1313312.07166964, 1282747.09970678,\n",
       "       1093954.872857  , 1418851.63432529, 1425037.97358077,\n",
       "       1311382.74256413, 1215264.72340775, 1234184.09834964,\n",
       "       1110604.3935527 , 1105184.63880664, 1061380.05414341,\n",
       "       1058387.75004113, 1207823.69994827, 1114978.2221973 ,\n",
       "       1276779.83511687, 1517288.64879733, 1432791.35875065,\n",
       "       1304356.53546807, 1220656.07545903, 1013822.18827637,\n",
       "       1351669.73518823, 1233640.50731399, 1206637.76518068,\n",
       "        983461.05973145, 1120695.72665176, 1291691.69270572,\n",
       "       1266763.67208412, 1254846.29600847, 1213325.09414461,\n",
       "       1235316.14661593, 1213653.90676237, 1385572.86467928,\n",
       "       1248758.02215596, 1146774.21301404, 1363991.57051293,\n",
       "       1146444.94855493, 1186168.2720278 , 1035716.60596389,\n",
       "       1200756.51612058, 1362838.99367606, 1255527.05815575,\n",
       "       1116214.86428681, 1221985.34387215, 1083234.0334733 ,\n",
       "       1083073.28423738,  927376.72233696, 1322775.07724588,\n",
       "       1084036.53654038, 1155182.65897999, 1253686.60870667,\n",
       "       1436748.53374388, 1146591.07019219, 1199665.60436516,\n",
       "       1164053.40416379, 1269383.02544938, 1170469.47107384,\n",
       "       1443334.17159853, 1194484.85221008, 1260070.73189977,\n",
       "       1386556.95552227, 1127677.99942508, 1233820.80264569,\n",
       "       1173121.03630328, 1027301.03278102, 1247280.15489197,\n",
       "       1214409.86774317, 1268215.16791767, 1186294.71875233,\n",
       "       1335945.3623932 , 1316610.50112419, 1385959.03145839,\n",
       "       1063801.85867644, 1432706.18809833, 1286947.00662853,\n",
       "       1149625.48611723, 1081960.5855488 , 1432348.34360449,\n",
       "       1347278.43226353, 1157706.49301232, 1200580.82920106,\n",
       "       1406328.6875419 , 1274515.53236161, 1278077.94299702,\n",
       "       1306098.19871689, 1156917.96987765, 1247486.90287233,\n",
       "       1320657.00807733, 1179426.69703039, 1147331.76930968,\n",
       "       1384016.54511602, 1078196.4428227 , 1142232.50780108,\n",
       "       1246986.86687148, 1187878.57418201, 1069040.84834215,\n",
       "       1415563.35345183, 1154843.37972457, 1279867.43188045,\n",
       "       1358231.04385219, 1203305.17843708, 1127395.57569962,\n",
       "       1226247.30879594, 1428249.85675654, 1359552.74891923,\n",
       "       1150421.44643823, 1573724.72892103, 1370737.98972108,\n",
       "       1301001.44041636, 1218929.77689603, 1253158.58141658,\n",
       "       1222049.9934634 , 1428980.76139516, 1298138.99766997,\n",
       "       1127112.6533428 , 1249475.19017024, 1337089.70360967,\n",
       "       1137460.00234463, 1328091.11943844, 1340334.22784691,\n",
       "       1210570.6362845 , 1226340.4568571 , 1204852.13271878,\n",
       "       1226219.35817358, 1272534.15127001, 1286204.84350344,\n",
       "       1222467.10172888, 1379986.34465661, 1327786.70059313,\n",
       "       1248773.01448568, 1338969.64082812, 1322107.6635391 ,\n",
       "       1280801.70013717, 1236964.65163687, 1158656.12468401,\n",
       "       1227982.72390248, 1235298.68989653, 1077432.96089566,\n",
       "       1168649.09523463, 1269417.35903859, 1468073.618175  ,\n",
       "       1212783.96865396, 1295856.11072923, 1403256.62852943,\n",
       "       1234384.97551165, 1240088.90196572, 1242340.67019568,\n",
       "       1318758.33405708, 1104425.66085185, 1326895.64204934,\n",
       "       1159144.29901155, 1077634.29521346, 1414222.18882166,\n",
       "       1273347.04356905, 1214739.96529563, 1342415.49152706,\n",
       "       1399592.83918029, 1075597.6658578 , 1326694.88527052,\n",
       "       1102023.28295565, 1411201.26632841, 1353700.08948291,\n",
       "       1112952.25634396])"
      ]
     },
     "execution_count": 94,
     "metadata": {},
     "output_type": "execute_result"
    }
   ],
   "source": [
    "predicted_values"
   ]
  },
  {
   "cell_type": "code",
   "execution_count": 95,
   "id": "2433f23c",
   "metadata": {
    "collapsed": true
   },
   "outputs": [
    {
     "data": {
      "text/plain": [
       "2642    1759180\n",
       "1602     945079\n",
       "1638    1779874\n",
       "2526     714166\n",
       "2203    1110525\n",
       "         ...   \n",
       "2090     594816\n",
       "1113    1676770\n",
       "551     1560746\n",
       "994     1136448\n",
       "47       980177\n",
       "Name: Price, Length: 1000, dtype: int32"
      ]
     },
     "execution_count": 95,
     "metadata": {},
     "output_type": "execute_result"
    }
   ],
   "source": [
    "y_test"
   ]
  },
  {
   "cell_type": "code",
   "execution_count": 96,
   "id": "3161de21",
   "metadata": {},
   "outputs": [],
   "source": [
    "from sklearn.metrics import mean_squared_error,r2_score"
   ]
  },
  {
   "cell_type": "code",
   "execution_count": 97,
   "id": "044f7ab9",
   "metadata": {},
   "outputs": [
    {
     "data": {
      "text/plain": [
       "325636.2900837324"
      ]
     },
     "execution_count": 97,
     "metadata": {},
     "output_type": "execute_result"
    }
   ],
   "source": [
    "np.sqrt(mean_squared_error(y_test,predicted_values))"
   ]
  },
  {
   "cell_type": "code",
   "execution_count": 98,
   "id": "a247d73c",
   "metadata": {},
   "outputs": [
    {
     "data": {
      "text/plain": [
       "12.537185657129813"
      ]
     },
     "execution_count": 98,
     "metadata": {},
     "output_type": "execute_result"
    }
   ],
   "source": [
    "r2_score(y_test,predicted_values)*100"
   ]
  },
  {
   "cell_type": "code",
   "execution_count": 102,
   "id": "114306a1",
   "metadata": {},
   "outputs": [
    {
     "data": {
      "text/plain": [
       "[<matplotlib.lines.Line2D at 0x29ffc9a0610>]"
      ]
     },
     "execution_count": 102,
     "metadata": {},
     "output_type": "execute_result"
    },
    {
     "data": {
      "image/png": "[encoded data removed]",
      "text/plain": [
       "<Figure size 640x480 with 1 Axes>"
      ]
     },
     "metadata": {},
     "output_type": "display_data"
    }
   ],
   "source": [
    "plt.scatter(X_test,y_test,color=\"blue\")\n",
    "plt.plot(X_test,predicted_values,color=\"red\")"
   ]
  },
  {
   "cell_type": "code",
   "execution_count": null,
   "id": "119c827a",
   "metadata": {},
   "outputs": [],
   "source": []
  }
 ],
 "metadata": {
  "kernelspec": {
   "display_name": "Python 3 (ipykernel)",
   "language": "python",
   "name": "python3"
  },
  "language_info": {
   "codemirror_mode": {
    "name": "ipython",
    "version": 3
   },
   "file_extension": ".py",
   "mimetype": "text/x-python",
   "name": "python",
   "nbconvert_exporter": "python",
   "pygments_lexer": "ipython3",
   "version": "3.10.9"
  }
 },
 "nbformat": 4,
 "nbformat_minor": 5
}
