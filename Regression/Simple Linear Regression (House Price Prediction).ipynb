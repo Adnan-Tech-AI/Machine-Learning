{
 "cells": [
  {
   "cell_type": "code",
   "execution_count": 1,
   "id": "4b05629c",
   "metadata": {},
   "outputs": [],
   "source": [
    "import matplotlib.pyplot as plt"
   ]
  },
  {
   "cell_type": "code",
   "execution_count": 2,
   "id": "33c27737",
   "metadata": {},
   "outputs": [],
   "source": [
    "import pandas as pd"
   ]
  },
  {
   "cell_type": "code",
   "execution_count": 3,
   "id": "d12baa86",
   "metadata": {},
   "outputs": [],
   "source": [
    "data=pd.read_csv(\"D:/datasets/USA_Housing.csv\")"
   ]
  },
  {
   "cell_type": "code",
   "execution_count": 4,
   "id": "2ebece62",
   "metadata": {},
   "outputs": [
    {
     "data": {
      "text/html": [
       "<div>\n",
       "<style scoped>\n",
       "    .dataframe tbody tr th:only-of-type {\n",
       "        vertical-align: middle;\n",
       "    }\n",
       "\n",
       "    .dataframe tbody tr th {\n",
       "        vertical-align: top;\n",
       "    }\n",
       "\n",
       "    .dataframe thead th {\n",
       "        text-align: right;\n",
       "    }\n",
       "</style>\n",
       "<table border=\"1\" class=\"dataframe\">\n",
       "  <thead>\n",
       "    <tr style=\"text-align: right;\">\n",
       "      <th></th>\n",
       "      <th>Avg. Area Income</th>\n",
       "      <th>Avg. Area House Age</th>\n",
       "      <th>Avg. Area Number of Rooms</th>\n",
       "      <th>Avg. Area Number of Bedrooms</th>\n",
       "      <th>Area Population</th>\n",
       "      <th>Price</th>\n",
       "      <th>Address</th>\n",
       "    </tr>\n",
       "  </thead>\n",
       "  <tbody>\n",
       "    <tr>\n",
       "      <th>0</th>\n",
       "      <td>79545.45857</td>\n",
       "      <td>5.682861</td>\n",
       "      <td>7.009188</td>\n",
       "      <td>4.09</td>\n",
       "      <td>23086.80050</td>\n",
       "      <td>1.059034e+06</td>\n",
       "      <td>208 Michael Ferry Apt. 674\\nLaurabury, NE 3701...</td>\n",
       "    </tr>\n",
       "    <tr>\n",
       "      <th>1</th>\n",
       "      <td>79248.64245</td>\n",
       "      <td>6.002900</td>\n",
       "      <td>6.730821</td>\n",
       "      <td>3.09</td>\n",
       "      <td>40173.07217</td>\n",
       "      <td>1.505891e+06</td>\n",
       "      <td>188 Johnson Views Suite 079\\nLake Kathleen, CA...</td>\n",
       "    </tr>\n",
       "    <tr>\n",
       "      <th>2</th>\n",
       "      <td>61287.06718</td>\n",
       "      <td>5.865890</td>\n",
       "      <td>8.512727</td>\n",
       "      <td>5.13</td>\n",
       "      <td>36882.15940</td>\n",
       "      <td>1.058988e+06</td>\n",
       "      <td>9127 Elizabeth Stravenue\\nDanieltown, WI 06482...</td>\n",
       "    </tr>\n",
       "    <tr>\n",
       "      <th>3</th>\n",
       "      <td>63345.24005</td>\n",
       "      <td>7.188236</td>\n",
       "      <td>5.586729</td>\n",
       "      <td>3.26</td>\n",
       "      <td>34310.24283</td>\n",
       "      <td>1.260617e+06</td>\n",
       "      <td>USS Barnett\\nFPO AP 44820</td>\n",
       "    </tr>\n",
       "    <tr>\n",
       "      <th>4</th>\n",
       "      <td>59982.19723</td>\n",
       "      <td>5.040555</td>\n",
       "      <td>7.839388</td>\n",
       "      <td>4.23</td>\n",
       "      <td>26354.10947</td>\n",
       "      <td>6.309435e+05</td>\n",
       "      <td>USNS Raymond\\nFPO AE 09386</td>\n",
       "    </tr>\n",
       "    <tr>\n",
       "      <th>...</th>\n",
       "      <td>...</td>\n",
       "      <td>...</td>\n",
       "      <td>...</td>\n",
       "      <td>...</td>\n",
       "      <td>...</td>\n",
       "      <td>...</td>\n",
       "      <td>...</td>\n",
       "    </tr>\n",
       "    <tr>\n",
       "      <th>4995</th>\n",
       "      <td>60567.94414</td>\n",
       "      <td>7.830362</td>\n",
       "      <td>6.137356</td>\n",
       "      <td>3.46</td>\n",
       "      <td>22837.36103</td>\n",
       "      <td>1.060194e+06</td>\n",
       "      <td>USNS Williams\\nFPO AP 30153-7653</td>\n",
       "    </tr>\n",
       "    <tr>\n",
       "      <th>4996</th>\n",
       "      <td>78491.27543</td>\n",
       "      <td>6.999135</td>\n",
       "      <td>6.576763</td>\n",
       "      <td>4.02</td>\n",
       "      <td>25616.11549</td>\n",
       "      <td>1.482618e+06</td>\n",
       "      <td>PSC 9258, Box 8489\\nAPO AA 42991-3352</td>\n",
       "    </tr>\n",
       "    <tr>\n",
       "      <th>4997</th>\n",
       "      <td>63390.68689</td>\n",
       "      <td>7.250591</td>\n",
       "      <td>4.805081</td>\n",
       "      <td>2.13</td>\n",
       "      <td>33266.14549</td>\n",
       "      <td>1.030730e+06</td>\n",
       "      <td>4215 Tracy Garden Suite 076\\nJoshualand, VA 01...</td>\n",
       "    </tr>\n",
       "    <tr>\n",
       "      <th>4998</th>\n",
       "      <td>68001.33124</td>\n",
       "      <td>5.534388</td>\n",
       "      <td>7.130144</td>\n",
       "      <td>5.44</td>\n",
       "      <td>42625.62016</td>\n",
       "      <td>1.198657e+06</td>\n",
       "      <td>USS Wallace\\nFPO AE 73316</td>\n",
       "    </tr>\n",
       "    <tr>\n",
       "      <th>4999</th>\n",
       "      <td>65510.58180</td>\n",
       "      <td>5.992305</td>\n",
       "      <td>6.792336</td>\n",
       "      <td>4.07</td>\n",
       "      <td>46501.28380</td>\n",
       "      <td>1.298950e+06</td>\n",
       "      <td>37778 George Ridges Apt. 509\\nEast Holly, NV 2...</td>\n",
       "    </tr>\n",
       "  </tbody>\n",
       "</table>\n",
       "<p>5000 rows × 7 columns</p>\n",
       "</div>"
      ],
      "text/plain": [
       "      Avg. Area Income  Avg. Area House Age  Avg. Area Number of Rooms  \\\n",
       "0          79545.45857             5.682861                   7.009188   \n",
       "1          79248.64245             6.002900                   6.730821   \n",
       "2          61287.06718             5.865890                   8.512727   \n",
       "3          63345.24005             7.188236                   5.586729   \n",
       "4          59982.19723             5.040555                   7.839388   \n",
       "...                ...                  ...                        ...   \n",
       "4995       60567.94414             7.830362                   6.137356   \n",
       "4996       78491.27543             6.999135                   6.576763   \n",
       "4997       63390.68689             7.250591                   4.805081   \n",
       "4998       68001.33124             5.534388                   7.130144   \n",
       "4999       65510.58180             5.992305                   6.792336   \n",
       "\n",
       "      Avg. Area Number of Bedrooms  Area Population         Price  \\\n",
       "0                             4.09      23086.80050  1.059034e+06   \n",
       "1                             3.09      40173.07217  1.505891e+06   \n",
       "2                             5.13      36882.15940  1.058988e+06   \n",
       "3                             3.26      34310.24283  1.260617e+06   \n",
       "4                             4.23      26354.10947  6.309435e+05   \n",
       "...                            ...              ...           ...   \n",
       "4995                          3.46      22837.36103  1.060194e+06   \n",
       "4996                          4.02      25616.11549  1.482618e+06   \n",
       "4997                          2.13      33266.14549  1.030730e+06   \n",
       "4998                          5.44      42625.62016  1.198657e+06   \n",
       "4999                          4.07      46501.28380  1.298950e+06   \n",
       "\n",
       "                                                Address  \n",
       "0     208 Michael Ferry Apt. 674\\nLaurabury, NE 3701...  \n",
       "1     188 Johnson Views Suite 079\\nLake Kathleen, CA...  \n",
       "2     9127 Elizabeth Stravenue\\nDanieltown, WI 06482...  \n",
       "3                             USS Barnett\\nFPO AP 44820  \n",
       "4                            USNS Raymond\\nFPO AE 09386  \n",
       "...                                                 ...  \n",
       "4995                   USNS Williams\\nFPO AP 30153-7653  \n",
       "4996              PSC 9258, Box 8489\\nAPO AA 42991-3352  \n",
       "4997  4215 Tracy Garden Suite 076\\nJoshualand, VA 01...  \n",
       "4998                          USS Wallace\\nFPO AE 73316  \n",
       "4999  37778 George Ridges Apt. 509\\nEast Holly, NV 2...  \n",
       "\n",
       "[5000 rows x 7 columns]"
      ]
     },
     "execution_count": 4,
     "metadata": {},
     "output_type": "execute_result"
    }
   ],
   "source": [
    "data"
   ]
  },
  {
   "cell_type": "code",
   "execution_count": 6,
   "id": "83551254",
   "metadata": {
    "collapsed": true
   },
   "outputs": [
    {
     "data": {
      "text/plain": [
       "<matplotlib.collections.PathCollection at 0x271ac7bb520>"
      ]
     },
     "execution_count": 6,
     "metadata": {},
     "output_type": "execute_result"
    },
    {
     "data": {
      "image/png": "[encoded data removed]",
      "text/plain": [
       "<Figure size 640x480 with 1 Axes>"
      ]
     },
     "metadata": {},
     "output_type": "display_data"
    }
   ],
   "source": [
    "# Scatter plot \n",
    "plt.scatter(x=data[\"Avg. Area Number of Bedrooms\"],y=data[\"Price\"])"
   ]
  },
  {
   "cell_type": "code",
   "execution_count": 8,
   "id": "552a05a1",
   "metadata": {
    "collapsed": true
   },
   "outputs": [
    {
     "name": "stdout",
     "output_type": "stream",
     "text": [
      "Requirement already satisfied: scikit-learn in c:\\users\\itzad\\anaconda3\\lib\\site-packages (1.2.1)\n",
      "Requirement already satisfied: scipy>=1.3.2 in c:\\users\\itzad\\anaconda3\\lib\\site-packages (from scikit-learn) (1.10.0)\n",
      "Requirement already satisfied: threadpoolctl>=2.0.0 in c:\\users\\itzad\\anaconda3\\lib\\site-packages (from scikit-learn) (2.2.0)\n",
      "Requirement already satisfied: joblib>=1.1.1 in c:\\users\\itzad\\anaconda3\\lib\\site-packages (from scikit-learn) (1.1.1)\n",
      "Requirement already satisfied: numpy>=1.17.3 in c:\\users\\itzad\\anaconda3\\lib\\site-packages (from scikit-learn) (1.23.5)\n",
      "Note: you may need to restart the kernel to use updated packages.\n"
     ]
    }
   ],
   "source": [
    "pip install scikit-learn"
   ]
  },
  {
   "cell_type": "code",
   "execution_count": 9,
   "id": "26516169",
   "metadata": {},
   "outputs": [],
   "source": [
    "import sklearn"
   ]
  },
  {
   "cell_type": "code",
   "execution_count": 10,
   "id": "82b46d95",
   "metadata": {
    "collapsed": true
   },
   "outputs": [
    {
     "data": {
      "text/html": [
       "<div>\n",
       "<style scoped>\n",
       "    .dataframe tbody tr th:only-of-type {\n",
       "        vertical-align: middle;\n",
       "    }\n",
       "\n",
       "    .dataframe tbody tr th {\n",
       "        vertical-align: top;\n",
       "    }\n",
       "\n",
       "    .dataframe thead th {\n",
       "        text-align: right;\n",
       "    }\n",
       "</style>\n",
       "<table border=\"1\" class=\"dataframe\">\n",
       "  <thead>\n",
       "    <tr style=\"text-align: right;\">\n",
       "      <th></th>\n",
       "      <th>Avg. Area Income</th>\n",
       "      <th>Avg. Area House Age</th>\n",
       "      <th>Avg. Area Number of Rooms</th>\n",
       "      <th>Avg. Area Number of Bedrooms</th>\n",
       "      <th>Area Population</th>\n",
       "      <th>Price</th>\n",
       "      <th>Address</th>\n",
       "    </tr>\n",
       "  </thead>\n",
       "  <tbody>\n",
       "    <tr>\n",
       "      <th>0</th>\n",
       "      <td>79545.45857</td>\n",
       "      <td>5.682861</td>\n",
       "      <td>7.009188</td>\n",
       "      <td>4.09</td>\n",
       "      <td>23086.80050</td>\n",
       "      <td>1.059034e+06</td>\n",
       "      <td>208 Michael Ferry Apt. 674\\nLaurabury, NE 3701...</td>\n",
       "    </tr>\n",
       "    <tr>\n",
       "      <th>1</th>\n",
       "      <td>79248.64245</td>\n",
       "      <td>6.002900</td>\n",
       "      <td>6.730821</td>\n",
       "      <td>3.09</td>\n",
       "      <td>40173.07217</td>\n",
       "      <td>1.505891e+06</td>\n",
       "      <td>188 Johnson Views Suite 079\\nLake Kathleen, CA...</td>\n",
       "    </tr>\n",
       "    <tr>\n",
       "      <th>2</th>\n",
       "      <td>61287.06718</td>\n",
       "      <td>5.865890</td>\n",
       "      <td>8.512727</td>\n",
       "      <td>5.13</td>\n",
       "      <td>36882.15940</td>\n",
       "      <td>1.058988e+06</td>\n",
       "      <td>9127 Elizabeth Stravenue\\nDanieltown, WI 06482...</td>\n",
       "    </tr>\n",
       "    <tr>\n",
       "      <th>3</th>\n",
       "      <td>63345.24005</td>\n",
       "      <td>7.188236</td>\n",
       "      <td>5.586729</td>\n",
       "      <td>3.26</td>\n",
       "      <td>34310.24283</td>\n",
       "      <td>1.260617e+06</td>\n",
       "      <td>USS Barnett\\nFPO AP 44820</td>\n",
       "    </tr>\n",
       "    <tr>\n",
       "      <th>4</th>\n",
       "      <td>59982.19723</td>\n",
       "      <td>5.040555</td>\n",
       "      <td>7.839388</td>\n",
       "      <td>4.23</td>\n",
       "      <td>26354.10947</td>\n",
       "      <td>6.309435e+05</td>\n",
       "      <td>USNS Raymond\\nFPO AE 09386</td>\n",
       "    </tr>\n",
       "    <tr>\n",
       "      <th>...</th>\n",
       "      <td>...</td>\n",
       "      <td>...</td>\n",
       "      <td>...</td>\n",
       "      <td>...</td>\n",
       "      <td>...</td>\n",
       "      <td>...</td>\n",
       "      <td>...</td>\n",
       "    </tr>\n",
       "    <tr>\n",
       "      <th>4995</th>\n",
       "      <td>60567.94414</td>\n",
       "      <td>7.830362</td>\n",
       "      <td>6.137356</td>\n",
       "      <td>3.46</td>\n",
       "      <td>22837.36103</td>\n",
       "      <td>1.060194e+06</td>\n",
       "      <td>USNS Williams\\nFPO AP 30153-7653</td>\n",
       "    </tr>\n",
       "    <tr>\n",
       "      <th>4996</th>\n",
       "      <td>78491.27543</td>\n",
       "      <td>6.999135</td>\n",
       "      <td>6.576763</td>\n",
       "      <td>4.02</td>\n",
       "      <td>25616.11549</td>\n",
       "      <td>1.482618e+06</td>\n",
       "      <td>PSC 9258, Box 8489\\nAPO AA 42991-3352</td>\n",
       "    </tr>\n",
       "    <tr>\n",
       "      <th>4997</th>\n",
       "      <td>63390.68689</td>\n",
       "      <td>7.250591</td>\n",
       "      <td>4.805081</td>\n",
       "      <td>2.13</td>\n",
       "      <td>33266.14549</td>\n",
       "      <td>1.030730e+06</td>\n",
       "      <td>4215 Tracy Garden Suite 076\\nJoshualand, VA 01...</td>\n",
       "    </tr>\n",
       "    <tr>\n",
       "      <th>4998</th>\n",
       "      <td>68001.33124</td>\n",
       "      <td>5.534388</td>\n",
       "      <td>7.130144</td>\n",
       "      <td>5.44</td>\n",
       "      <td>42625.62016</td>\n",
       "      <td>1.198657e+06</td>\n",
       "      <td>USS Wallace\\nFPO AE 73316</td>\n",
       "    </tr>\n",
       "    <tr>\n",
       "      <th>4999</th>\n",
       "      <td>65510.58180</td>\n",
       "      <td>5.992305</td>\n",
       "      <td>6.792336</td>\n",
       "      <td>4.07</td>\n",
       "      <td>46501.28380</td>\n",
       "      <td>1.298950e+06</td>\n",
       "      <td>37778 George Ridges Apt. 509\\nEast Holly, NV 2...</td>\n",
       "    </tr>\n",
       "  </tbody>\n",
       "</table>\n",
       "<p>5000 rows × 7 columns</p>\n",
       "</div>"
      ],
      "text/plain": [
       "      Avg. Area Income  Avg. Area House Age  Avg. Area Number of Rooms  \\\n",
       "0          79545.45857             5.682861                   7.009188   \n",
       "1          79248.64245             6.002900                   6.730821   \n",
       "2          61287.06718             5.865890                   8.512727   \n",
       "3          63345.24005             7.188236                   5.586729   \n",
       "4          59982.19723             5.040555                   7.839388   \n",
       "...                ...                  ...                        ...   \n",
       "4995       60567.94414             7.830362                   6.137356   \n",
       "4996       78491.27543             6.999135                   6.576763   \n",
       "4997       63390.68689             7.250591                   4.805081   \n",
       "4998       68001.33124             5.534388                   7.130144   \n",
       "4999       65510.58180             5.992305                   6.792336   \n",
       "\n",
       "      Avg. Area Number of Bedrooms  Area Population         Price  \\\n",
       "0                             4.09      23086.80050  1.059034e+06   \n",
       "1                             3.09      40173.07217  1.505891e+06   \n",
       "2                             5.13      36882.15940  1.058988e+06   \n",
       "3                             3.26      34310.24283  1.260617e+06   \n",
       "4                             4.23      26354.10947  6.309435e+05   \n",
       "...                            ...              ...           ...   \n",
       "4995                          3.46      22837.36103  1.060194e+06   \n",
       "4996                          4.02      25616.11549  1.482618e+06   \n",
       "4997                          2.13      33266.14549  1.030730e+06   \n",
       "4998                          5.44      42625.62016  1.198657e+06   \n",
       "4999                          4.07      46501.28380  1.298950e+06   \n",
       "\n",
       "                                                Address  \n",
       "0     208 Michael Ferry Apt. 674\\nLaurabury, NE 3701...  \n",
       "1     188 Johnson Views Suite 079\\nLake Kathleen, CA...  \n",
       "2     9127 Elizabeth Stravenue\\nDanieltown, WI 06482...  \n",
       "3                             USS Barnett\\nFPO AP 44820  \n",
       "4                            USNS Raymond\\nFPO AE 09386  \n",
       "...                                                 ...  \n",
       "4995                   USNS Williams\\nFPO AP 30153-7653  \n",
       "4996              PSC 9258, Box 8489\\nAPO AA 42991-3352  \n",
       "4997  4215 Tracy Garden Suite 076\\nJoshualand, VA 01...  \n",
       "4998                          USS Wallace\\nFPO AE 73316  \n",
       "4999  37778 George Ridges Apt. 509\\nEast Holly, NV 2...  \n",
       "\n",
       "[5000 rows x 7 columns]"
      ]
     },
     "execution_count": 10,
     "metadata": {},
     "output_type": "execute_result"
    }
   ],
   "source": [
    "data"
   ]
  },
  {
   "cell_type": "code",
   "execution_count": 32,
   "id": "c54f7ad6",
   "metadata": {},
   "outputs": [],
   "source": [
    "X=data[[\"Avg. Area Income\"]]"
   ]
  },
  {
   "cell_type": "code",
   "execution_count": 33,
   "id": "af3b67a3",
   "metadata": {},
   "outputs": [
    {
     "data": {
      "text/plain": [
       "(5000, 1)"
      ]
     },
     "execution_count": 33,
     "metadata": {},
     "output_type": "execute_result"
    }
   ],
   "source": [
    "X.shape"
   ]
  },
  {
   "cell_type": "code",
   "execution_count": 15,
   "id": "a6ceac1f",
   "metadata": {},
   "outputs": [],
   "source": [
    "y=data[\"Price\"].astype(int)"
   ]
  },
  {
   "cell_type": "code",
   "execution_count": 16,
   "id": "9ee3448c",
   "metadata": {
    "collapsed": true
   },
   "outputs": [
    {
     "data": {
      "text/plain": [
       "0       1059033\n",
       "1       1505890\n",
       "2       1058987\n",
       "3       1260616\n",
       "4        630943\n",
       "         ...   \n",
       "4995    1060193\n",
       "4996    1482617\n",
       "4997    1030729\n",
       "4998    1198656\n",
       "4999    1298950\n",
       "Name: Price, Length: 5000, dtype: int32"
      ]
     },
     "execution_count": 16,
     "metadata": {},
     "output_type": "execute_result"
    }
   ],
   "source": [
    "y"
   ]
  },
  {
   "cell_type": "code",
   "execution_count": 34,
   "id": "8a99571c",
   "metadata": {},
   "outputs": [],
   "source": [
    "#Splitting data into train and test\n",
    "from sklearn.model_selection import train_test_split"
   ]
  },
  {
   "cell_type": "code",
   "execution_count": 35,
   "id": "f8caaaf0",
   "metadata": {},
   "outputs": [],
   "source": [
    "X_train,X_test,y_train,y_test=train_test_split(X,y,test_size=0.2)"
   ]
  },
  {
   "cell_type": "code",
   "execution_count": 36,
   "id": "432a818f",
   "metadata": {},
   "outputs": [
    {
     "data": {
      "text/plain": [
       "4000"
      ]
     },
     "execution_count": 36,
     "metadata": {},
     "output_type": "execute_result"
    }
   ],
   "source": [
    "len(X_train)"
   ]
  },
  {
   "cell_type": "code",
   "execution_count": 25,
   "id": "be393039",
   "metadata": {},
   "outputs": [
    {
     "data": {
      "text/plain": [
       "4000"
      ]
     },
     "execution_count": 25,
     "metadata": {},
     "output_type": "execute_result"
    }
   ],
   "source": [
    "len(y_train)"
   ]
  },
  {
   "cell_type": "code",
   "execution_count": 26,
   "id": "797e3d32",
   "metadata": {},
   "outputs": [
    {
     "data": {
      "text/plain": [
       "1000"
      ]
     },
     "execution_count": 26,
     "metadata": {},
     "output_type": "execute_result"
    }
   ],
   "source": [
    "len(X_test)"
   ]
  },
  {
   "cell_type": "code",
   "execution_count": 27,
   "id": "2a8435ed",
   "metadata": {},
   "outputs": [
    {
     "data": {
      "text/plain": [
       "1000"
      ]
     },
     "execution_count": 27,
     "metadata": {},
     "output_type": "execute_result"
    }
   ],
   "source": [
    "len(y_test)"
   ]
  },
  {
   "cell_type": "code",
   "execution_count": 37,
   "id": "a890609f",
   "metadata": {},
   "outputs": [],
   "source": [
    "from sklearn.linear_model import LinearRegression"
   ]
  },
  {
   "cell_type": "code",
   "execution_count": 38,
   "id": "b7343b26",
   "metadata": {},
   "outputs": [],
   "source": [
    "model=LinearRegression()"
   ]
  },
  {
   "cell_type": "code",
   "execution_count": 39,
   "id": "50457aa7",
   "metadata": {},
   "outputs": [
    {
     "data": {
      "text/html": [
       "<style>#sk-container-id-1 {color: black;background-color: white;}#sk-container-id-1 pre{padding: 0;}#sk-container-id-1 div.sk-toggleable {background-color: white;}#sk-container-id-1 label.sk-toggleable__label {cursor: pointer;display: block;width: 100%;margin-bottom: 0;padding: 0.3em;box-sizing: border-box;text-align: center;}#sk-container-id-1 label.sk-toggleable__label-arrow:before {content: \"▸\";float: left;margin-right: 0.25em;color: #696969;}#sk-container-id-1 label.sk-toggleable__label-arrow:hover:before {color: black;}#sk-container-id-1 div.sk-estimator:hover label.sk-toggleable__label-arrow:before {color: black;}#sk-container-id-1 div.sk-toggleable__content {max-height: 0;max-width: 0;overflow: hidden;text-align: left;background-color: #f0f8ff;}#sk-container-id-1 div.sk-toggleable__content pre {margin: 0.2em;color: black;border-radius: 0.25em;background-color: #f0f8ff;}#sk-container-id-1 input.sk-toggleable__control:checked~div.sk-toggleable__content {max-height: 200px;max-width: 100%;overflow: auto;}#sk-container-id-1 input.sk-toggleable__control:checked~label.sk-toggleable__label-arrow:before {content: \"▾\";}#sk-container-id-1 div.sk-estimator input.sk-toggleable__control:checked~label.sk-toggleable__label {background-color: #d4ebff;}#sk-container-id-1 div.sk-label input.sk-toggleable__control:checked~label.sk-toggleable__label {background-color: #d4ebff;}#sk-container-id-1 input.sk-hidden--visually {border: 0;clip: rect(1px 1px 1px 1px);clip: rect(1px, 1px, 1px, 1px);height: 1px;margin: -1px;overflow: hidden;padding: 0;position: absolute;width: 1px;}#sk-container-id-1 div.sk-estimator {font-family: monospace;background-color: #f0f8ff;border: 1px dotted black;border-radius: 0.25em;box-sizing: border-box;margin-bottom: 0.5em;}#sk-container-id-1 div.sk-estimator:hover {background-color: #d4ebff;}#sk-container-id-1 div.sk-parallel-item::after {content: \"\";width: 100%;border-bottom: 1px solid gray;flex-grow: 1;}#sk-container-id-1 div.sk-label:hover label.sk-toggleable__label {background-color: #d4ebff;}#sk-container-id-1 div.sk-serial::before {content: \"\";position: absolute;border-left: 1px solid gray;box-sizing: border-box;top: 0;bottom: 0;left: 50%;z-index: 0;}#sk-container-id-1 div.sk-serial {display: flex;flex-direction: column;align-items: center;background-color: white;padding-right: 0.2em;padding-left: 0.2em;position: relative;}#sk-container-id-1 div.sk-item {position: relative;z-index: 1;}#sk-container-id-1 div.sk-parallel {display: flex;align-items: stretch;justify-content: center;background-color: white;position: relative;}#sk-container-id-1 div.sk-item::before, #sk-container-id-1 div.sk-parallel-item::before {content: \"\";position: absolute;border-left: 1px solid gray;box-sizing: border-box;top: 0;bottom: 0;left: 50%;z-index: -1;}#sk-container-id-1 div.sk-parallel-item {display: flex;flex-direction: column;z-index: 1;position: relative;background-color: white;}#sk-container-id-1 div.sk-parallel-item:first-child::after {align-self: flex-end;width: 50%;}#sk-container-id-1 div.sk-parallel-item:last-child::after {align-self: flex-start;width: 50%;}#sk-container-id-1 div.sk-parallel-item:only-child::after {width: 0;}#sk-container-id-1 div.sk-dashed-wrapped {border: 1px dashed gray;margin: 0 0.4em 0.5em 0.4em;box-sizing: border-box;padding-bottom: 0.4em;background-color: white;}#sk-container-id-1 div.sk-label label {font-family: monospace;font-weight: bold;display: inline-block;line-height: 1.2em;}#sk-container-id-1 div.sk-label-container {text-align: center;}#sk-container-id-1 div.sk-container {/* jupyter's `normalize.less` sets `[hidden] { display: none; }` but bootstrap.min.css set `[hidden] { display: none !important; }` so we also need the `!important` here to be able to override the default hidden behavior on the sphinx rendered scikit-learn.org. See: https://github.com/scikit-learn/scikit-learn/issues/21755 */display: inline-block !important;position: relative;}#sk-container-id-1 div.sk-text-repr-fallback {display: none;}</style><div id=\"sk-container-id-1\" class=\"sk-top-container\"><div class=\"sk-text-repr-fallback\"><pre>LinearRegression()</pre><b>In a Jupyter environment, please rerun this cell to show the HTML representation or trust the notebook. <br />On GitHub, the HTML representation is unable to render, please try loading this page with nbviewer.org.</b></div><div class=\"sk-container\" hidden><div class=\"sk-item\"><div class=\"sk-estimator sk-toggleable\"><input class=\"sk-toggleable__control sk-hidden--visually\" id=\"sk-estimator-id-1\" type=\"checkbox\" checked><label for=\"sk-estimator-id-1\" class=\"sk-toggleable__label sk-toggleable__label-arrow\">LinearRegression</label><div class=\"sk-toggleable__content\"><pre>LinearRegression()</pre></div></div></div></div></div>"
      ],
      "text/plain": [
       "LinearRegression()"
      ]
     },
     "execution_count": 39,
     "metadata": {},
     "output_type": "execute_result"
    }
   ],
   "source": [
    "#Training the model\n",
    "model.fit(X_train,y_train)"
   ]
  },
  {
   "cell_type": "code",
   "execution_count": 41,
   "id": "546c6299",
   "metadata": {},
   "outputs": [],
   "source": [
    "#Evaluate \n",
    "predictions=model.predict(X_test)"
   ]
  },
  {
   "cell_type": "code",
   "execution_count": 42,
   "id": "7e4786b3",
   "metadata": {
    "collapsed": true
   },
   "outputs": [
    {
     "data": {
      "text/plain": [
       "array([1238872.34463647, 1024111.3550593 , 1526661.13757236,\n",
       "        891467.40849893, 1070109.70958584, 1112067.45833037,\n",
       "       1581285.70246952,  951060.42721781,  788460.78486775,\n",
       "        761436.75169082, 1610207.3135809 ,  954302.83802415,\n",
       "       1323011.9858068 , 1108807.05899866, 1501363.77941628,\n",
       "        900510.57921204, 1057625.28479696,  923768.71480706,\n",
       "       1738479.39477416, 1124305.75329545, 1156251.241386  ,\n",
       "       1338408.71583914, 1138273.01478454, 1551347.63473438,\n",
       "        782650.00095044,  750449.42303747, 1082814.5640035 ,\n",
       "        914960.59019173,  809393.28234816, 1497249.68635026,\n",
       "        771625.73284509, 1236286.66183673, 1154644.42141109,\n",
       "       1165677.23985006, 1244213.79210099,  998878.06726283,\n",
       "        828244.23008707,  708456.3543818 , 1373889.72048203,\n",
       "       1036862.81805403, 1293029.46673419, 1514612.94327766,\n",
       "       1239400.83138729, 1513787.03243486, 1629779.06204907,\n",
       "       1178038.59199346, 1125287.48248634, 1067400.41708635,\n",
       "       1239295.04372608, 1269760.68672353, 1322204.20613099,\n",
       "       1276601.23461012, 1218691.19725078, 1217641.11329613,\n",
       "       1176850.08509336, 1230785.06285544, 1331965.21904879,\n",
       "       1427310.41765284, 1235195.03415642,  840857.47529106,\n",
       "       1570141.58060716, 1556533.7931715 , 1329415.20116385,\n",
       "       1548985.69884022, 1104905.50043399, 1346812.86393601,\n",
       "       1291742.23658474, 1477865.01042567, 1125543.38841644,\n",
       "       1343456.1484322 ,  909667.20178045, 1502372.98666667,\n",
       "       1707608.16925115, 1119954.51274571,  978136.99848059,\n",
       "       1357053.56062382, 1086131.33964052,  905022.22949425,\n",
       "        871021.70152027, 1125644.96965379,  969339.3204301 ,\n",
       "       1206918.75390074, 1104631.04142707, 1048700.27590508,\n",
       "       1018737.70453181, 1227787.43257776, 1333556.80666084,\n",
       "       1614898.6383767 , 1109786.85329042, 1321702.83503544,\n",
       "       1302444.51294311, 1249169.73685465, 1293299.82952077,\n",
       "        955968.43858892, 1506483.47824675, 1622604.48659966,\n",
       "       1023010.95986063, 1518724.82260597, 1161594.3719786 ,\n",
       "        803759.73944413, 1080863.52296091, 1331443.87340119,\n",
       "       1257307.45168362, 1176495.03636712, 1291819.50902724,\n",
       "       1192031.01017867,  845904.86234191, 1428551.46328327,\n",
       "       1044693.87618365, 1502255.72237052, 1058607.01248409,\n",
       "       1075452.18991314, 1297383.9755814 , 1405417.18615154,\n",
       "       1289483.08084788, 1594832.8062098 , 1125198.37616041,\n",
       "        879825.62894908, 1065976.96763253, 1215732.76828285,\n",
       "        816530.98365137, 1395062.17209178, 1267269.46317705,\n",
       "       1686970.58352285, 1513145.2210032 , 1113814.4782559 ,\n",
       "       1325897.99128782, 1419501.23116579, 1295358.08571482,\n",
       "        991061.39896532, 1097269.23596978, 1157221.18330976,\n",
       "       1105288.5821042 , 1405985.22308257, 1396773.72473849,\n",
       "       1046579.5542844 , 1121499.14291023, 1450951.03492104,\n",
       "       1037850.51542161, 1251084.86378926, 1106863.78247189,\n",
       "       1328063.70194471, 1630601.15615458, 1197462.29414811,\n",
       "       1750108.0669775 , 1330463.17449521, 1316167.2231183 ,\n",
       "       1185515.71116579, 1343120.3170115 , 1186176.21853071,\n",
       "       1247754.41002444, 1250740.84057237, 1419241.13793095,\n",
       "       1198880.45426184, 1048926.67371054, 1048447.68918519,\n",
       "       1426274.7946363 , 1012947.07604644, 1254148.07848996,\n",
       "       1173260.48674636, 1573315.55243964, 1481566.39103364,\n",
       "       1121954.96557383, 1360498.26688444, 1120444.54275882,\n",
       "       1110188.0134963 , 1083840.92068566, 1371255.58614979,\n",
       "       1304333.26535733, 1051896.36835848,  980608.82641952,\n",
       "       1665551.23517579, 1099200.97678565, 1187184.49152149,\n",
       "       1148739.68135296, 1340820.57586862, 1081353.47671231,\n",
       "       1359260.52284885, 1161207.6774369 , 1046740.3938751 ,\n",
       "       1285895.92781639, 1115705.07706271, 1276417.15539223,\n",
       "       1102020.51664501, 1471544.42129773, 1458542.29122991,\n",
       "       1000169.29180711,  983565.03133831, 1417303.25536245,\n",
       "       1197796.12364531, 1578727.22404642, 1327586.48926882,\n",
       "       1321013.02856741, 1231484.49569904,  888806.79008723,\n",
       "        862687.74469794, 1316227.90939154, 1343162.5369959 ,\n",
       "       1237588.23326858, 1468801.85936031, 1264962.44580809,\n",
       "        987289.37617205, 1348716.95182751, 1711320.11629448,\n",
       "       1119713.62693462, 1263787.91757135, 1395112.93983194,\n",
       "       1636613.39127686,  770423.66231717, 1088575.09897507,\n",
       "       1042209.28482776, 1098623.84000706, 1457088.51646967,\n",
       "       1606708.09652668, 1042478.15481829, 1522202.43804852,\n",
       "       1405473.2481727 , 1436276.38058479, 1160001.46879841,\n",
       "       1140592.63338007, 1166023.27916868, 1149376.24683851,\n",
       "       1313676.13276127, 1229705.42115234, 1045436.14447583,\n",
       "       1367421.8878293 , 1347583.53896194, 1140163.70639432,\n",
       "        920497.49232805, 1429435.13452765, 1415707.03683884,\n",
       "       1291565.03918026, 1064563.20577845, 1080582.97161035,\n",
       "       1187270.49668125, 1751534.6740956 , 1016314.9605605 ,\n",
       "       1164971.04377463,  894380.27679008, 1533524.78674098,\n",
       "       1360437.95160829, 1168731.14997811, 1034301.49517669,\n",
       "        764737.74609553,  819428.78585167, 1356230.46351576,\n",
       "       1123658.02588877, 1423295.88628529, 1214269.79270885,\n",
       "       1294310.18628212,  891987.47015718,  801923.20417213,\n",
       "       1591733.14356918, 1263694.51760394, 1205782.43106032,\n",
       "        860830.42327747, 1357228.26480756, 1453444.00625694,\n",
       "        994115.30415248, 1428469.43576226, 1176323.43356439,\n",
       "       1673180.84038187, 1388138.01624087, 1120341.37721137,\n",
       "       1530373.55249737, 1502350.43468375, 1222075.73023239,\n",
       "       1372772.95737295, 1462065.69183792, 1581112.11643277,\n",
       "       1351443.10546805, 1215449.05282335, 1098892.50892448,\n",
       "       1436583.51676619, 1178041.08951064, 1390211.15786071,\n",
       "       1337253.02982924, 1605810.28765087,  976283.63600938,\n",
       "       1611827.58182437, 1189919.75682478, 1294931.95012234,\n",
       "       1472847.86103398, 1380989.4763232 , 1395232.53408433,\n",
       "       1119928.11760244, 1205007.20761436,  944725.17006364,\n",
       "       1269520.78887747, 1135304.7244261 , 1724087.55815749,\n",
       "       1669254.55154217, 1346334.15030084, 1260460.87087882,\n",
       "       1222110.5006296 , 1369684.16299219, 1046383.65665024,\n",
       "       1545602.01182649, 1202467.00385915, 1113230.44290781,\n",
       "        985506.93816187, 1409227.02035812, 1293941.58187647,\n",
       "       1307781.40339474, 1581572.54444415,  913217.5315785 ,\n",
       "        714029.11240942, 1390880.70836025, 1390736.60939562,\n",
       "       1498497.38737202, 1313205.62144856, 1322094.43223816,\n",
       "       1244634.63276801, 1017099.85635386, 1043777.47878544,\n",
       "       1204780.72968041, 1086993.78349264, 1545335.8389225 ,\n",
       "       1634158.16518917, 1427072.79691689, 1083891.28907227,\n",
       "       1353151.96446536, 1351240.09164998, 1292133.71155391,\n",
       "       1265917.55042613, 1509942.46112844, 1627517.25992358,\n",
       "       1153484.49632443,  938522.72299335, 1364726.6880635 ,\n",
       "       1306226.76339791, 1067892.92957912, 1013228.8357691 ,\n",
       "       1320958.80155328, 1075203.77309743, 1494605.90007867,\n",
       "       1685692.31251274,  897662.05088175, 1088712.65661869,\n",
       "       1367613.33865411, 1147289.01549248, 1536648.1798764 ,\n",
       "       1379007.25154664, 1192306.04104097, 1736856.99614381,\n",
       "        957341.02513657,  862236.59719917,  800399.93308558,\n",
       "       1195067.19236009, 1536238.5228275 , 1350742.48401594,\n",
       "        783746.99681041, 1182564.76744546, 1143045.37763256,\n",
       "       1244715.99734922, 1240875.11625011, 1350890.55331538,\n",
       "       1225456.30899083, 1646655.52353382, 1049179.61273803,\n",
       "       1583500.700745  , 1158925.34028952,  939317.29328233,\n",
       "       1151283.84362779, 1056406.21714584,  703555.74211478,\n",
       "       1425110.88181427, 1620267.54542606, 1230525.72600784,\n",
       "        833581.14674695, 1562498.98341382, 1253481.61454872,\n",
       "       1118586.86666771, 1385707.99045812, 1190646.85311901,\n",
       "       1294659.46103049, 1155931.96219273, 1298099.95828938,\n",
       "        671542.22450054, 1446688.21820867, 1142264.01307843,\n",
       "       1198449.00870638, 1757905.0997116 , 1479122.04008011,\n",
       "       1276321.56295446, 1379925.91230637, 1094025.31818915,\n",
       "        912185.03163994, 1401635.11464323, 1008621.75309131,\n",
       "       1047519.19195428, 1415203.79808337, 1240452.36538847,\n",
       "       1333276.86046303, 1364667.59275982, 1635517.01238483,\n",
       "       1278572.97673179, 1191523.02171523, 1012684.85843973,\n",
       "       1678548.06322904, 1066290.60152613, 1438975.23317892,\n",
       "       1200819.28977944, 1659910.44740966, 1969473.96029587,\n",
       "       1167766.54100325, 1042899.26744959, 1377466.95025436,\n",
       "       1246071.17968655, 1243564.60841795, 1409490.89381055,\n",
       "       1155182.43550467, 1223254.56199241, 1139626.64503502,\n",
       "       1301503.17066298, 1168024.44026398, 1026180.21120089,\n",
       "       1116733.08808685, 1614762.9215403 , 1335661.09399121,\n",
       "       1484842.82487247, 1438417.24431846, 1485589.96381724,\n",
       "       1459973.96234014, 1272170.33473388, 1196729.17597176,\n",
       "       1067274.68709633, 1250913.40663564, 1160395.84536439,\n",
       "       1182254.81044021, 1074334.98706402,  828468.08032189,\n",
       "       1341513.07362301, 1236112.74368562, 1325333.7990209 ,\n",
       "       1106981.23924828, 1367392.71246348, 1425390.41233207,\n",
       "       1196862.63846916, 1763729.82169097, 1011940.71797636,\n",
       "       1423540.03072688,  990540.74332505, 1194876.54776115,\n",
       "       1655050.03773636, 1436136.63455243, 1539131.03590253,\n",
       "       1358057.32429213, 1503643.62140952,  890457.41929752,\n",
       "       1353996.81420476, 1047105.25458285, 1334603.71963225,\n",
       "       1011633.61015143, 1291181.64365554, 1291233.26724538,\n",
       "       1644820.01038351, 1197062.71202251, 1254032.10290924,\n",
       "        957970.04737266, 1343754.5742378 , 1468915.15074378,\n",
       "       1385390.47795858, 1308161.03996922, 1398596.60959469,\n",
       "       1212638.54127591, 1223286.44991193, 1326899.27505433,\n",
       "        830274.74055377, 1268881.89343568, 1595669.50260609,\n",
       "       1252283.70447281, 1192187.28996379, 1114483.15829788,\n",
       "       1281251.47196157, 1066153.73195644, 1071741.19538927,\n",
       "       1002151.40938763, 1102527.34764909, 1128063.56004737,\n",
       "       1157334.84010496, 1574033.43567528, 1401102.90997311,\n",
       "        720285.48939542, 1077423.05985867, 1304376.45440245,\n",
       "       1314790.85850127, 1713707.07075441, 1104520.30964425,\n",
       "        982458.63144325, 1675768.93047367, 1083614.81503773,\n",
       "       1144298.94070909,  951982.4602487 , 1326515.59059441,\n",
       "       1479205.22549012, 1239994.51910437, 1453591.32217665,\n",
       "       1311734.86331372, 1280853.86232889, 1091632.54700184,\n",
       "       1599718.02499769, 1389699.93117485, 1667507.33247692,\n",
       "       1153780.20635399, 1498332.03158456, 1226543.09673805,\n",
       "       1154150.97186604,  875733.18518516, 1150432.78382245,\n",
       "        687224.52755569, 1367785.00010317, 1208322.15662241,\n",
       "       1261103.64771924, 1326224.4579858 , 1157177.95087066,\n",
       "       1320314.81505183, 1151405.87395835, 1184642.69529296,\n",
       "       1163875.26917607,  865144.00386322, 1403780.42905305,\n",
       "       1275015.59949279, 1301450.47189049, 1130750.28917841,\n",
       "       1166086.62386056,  954427.81420479, 1457423.19472744,\n",
       "       1278122.43352648, 1301618.31703191, 1292674.53573025,\n",
       "       1225047.15398027,  973133.18865769, 1573496.40396137,\n",
       "       1595367.74212312, 1173882.8415611 , 1838368.27551048,\n",
       "       1243597.64885594, 1249891.0520819 , 1124390.89207926,\n",
       "       1301136.5155495 , 1651736.61589584, 1386943.63783384,\n",
       "       1445332.79462657,  793203.95151225, 1046185.46944631,\n",
       "       1212665.94028102,  954047.02081542,  796498.86861084,\n",
       "       1063306.47042976,  744601.63887362,  578318.73097095,\n",
       "        771799.4847242 , 1292400.89669779, 1076685.00507946,\n",
       "       1389152.52572066, 1047458.63930014, 1382248.21832147,\n",
       "       1206147.6077708 , 1270192.5440922 , 1357318.38616606,\n",
       "       1153902.79199867,  985138.88262567, 1167871.82662613,\n",
       "       1174318.5328528 , 1179304.93459859, 1165479.08486939,\n",
       "        711631.32169808,  781796.2148428 , 1227523.4579443 ,\n",
       "       1642878.7057052 , 1196394.9945966 , 1342373.03563994,\n",
       "       1626688.0706867 , 1222324.13244023, 1535536.60062996,\n",
       "       1004920.90975243, 1202882.79213442, 1552493.55881622,\n",
       "       1231412.59594745,  869278.58554964, 1461680.89696459,\n",
       "       1069616.23512147, 1556092.4621655 , 1276932.99258159,\n",
       "        884527.46325248,  986934.41724129, 1291540.02705915,\n",
       "       1130364.80644597, 1470023.51840569, 1514454.9253701 ,\n",
       "        955888.08281045, 1190424.61726932,  141674.41928805,\n",
       "        742844.44671057,  991749.71177802, 1082180.96907252,\n",
       "       1275815.810785  , 1148442.77927774,  789765.21213939,\n",
       "       1107487.50376752, 1462358.86009703, 1292504.66009404,\n",
       "       1336832.77390692, 1166673.65618631, 1392609.44738807,\n",
       "       1668620.37401473, 1759971.24007715,  992606.66822443,\n",
       "       1319099.68379369,  973469.92598153, 1373860.61901488,\n",
       "       1186358.01934957, 1393623.60627883, 1293715.43799027,\n",
       "       1227504.24386109, 1237413.80620485, 1453535.21418365,\n",
       "       1368602.26007579, 1389020.12508697,  870895.74081174,\n",
       "       1854913.61446638, 1471454.94311542, 1268345.61961276,\n",
       "       1357985.75966241, 1400935.94431176, 1498995.93785854,\n",
       "       1422135.75991069, 1055727.04134485, 1167624.47253341,\n",
       "       1176090.07231326,  824902.62643113, 1423291.28630806,\n",
       "       1432062.95503507, 1624415.40996833, 1345902.02719772,\n",
       "        969140.14998721, 1176615.65897103,  937670.59616858,\n",
       "       1220336.84130851, 1318580.91106568,  921438.99744304,\n",
       "        761030.28624804, 1223884.8142976 ,  874889.99258041,\n",
       "       1082699.82450689, 1556487.1407708 , 1285528.7382265 ,\n",
       "       1320165.20440663, 1317832.21251531,  855906.3413092 ,\n",
       "       1426873.79317565,  578692.40366517, 1471509.1132018 ,\n",
       "       1168467.10789064, 1292632.15720743,  956079.0382564 ,\n",
       "       1212036.22030402, 1116332.61445115, 1152738.85039052,\n",
       "       1330753.00614356, 1253322.98826608, 1187269.39034945,\n",
       "       1500082.40294356, 1087953.40344816, 1189075.63597543,\n",
       "        964650.48649201, 1140979.35584859,  830534.50489656,\n",
       "       1475000.89806938,  950140.59868728, 1087134.74992712,\n",
       "        989792.41126051,  937484.30256852, 1397923.87049653,\n",
       "       1232955.08799152, 1394441.28365002, 1766653.98079628,\n",
       "       1162200.86779556, 1133548.72409388, 1129616.25590775,\n",
       "       1032313.22875442, 1519242.60371697,  880794.76851376,\n",
       "       1448592.60384305, 1514455.80399088, 1033405.67619437,\n",
       "       1593660.65196775, 1157457.85324483, 1329554.90186883,\n",
       "       1294159.65856306, 1062989.15814405, 1189462.03578174,\n",
       "       1113335.42198011, 1534550.62054711, 1300486.75077374,\n",
       "       1462896.77150583, 1240242.30949999, 1313882.86041703,\n",
       "       1092515.49816385, 1115952.17637688, 1079053.19808552,\n",
       "       1419005.41492997, 1453180.39230913, 1267871.44150831,\n",
       "       1552284.84148181, 1650961.88224338, 1184289.55010188,\n",
       "       1613492.24727025, 1334284.13431805,  885470.83151613,\n",
       "       1390352.54448646, 1430358.94220067, 1949017.28817277,\n",
       "       1223646.56714155,  737804.92170459,  748892.10335465,\n",
       "       1252255.73876803, 1117834.54557887, 1207630.07111087,\n",
       "       1329242.61082572, 1083549.89699166, 1325407.05751979,\n",
       "       1784966.66138164, 1295972.70931111, 1343965.67480424,\n",
       "       1029381.19965584, 1258810.00106821, 1333403.34512171,\n",
       "       1093090.66051611, 1126287.73339008, 1145737.84529588,\n",
       "       1249156.62650063, 1315027.36023095,  982910.06164738,\n",
       "       1101696.95669957, 1687623.51756327, 1160943.08347247,\n",
       "       1030413.39819954, 1077713.86765686, 1367983.43821886,\n",
       "       1453142.27885651, 1448007.7169417 , 1046793.99747663,\n",
       "       1006189.2755484 , 1021764.77934691, 1364963.24800986,\n",
       "       1189769.65316376, 1131508.33548059, 1237929.44167663,\n",
       "       1353738.40646105, 1334879.03835565, 1493666.44178492,\n",
       "       1135141.84746632, 1093249.98582859, 1371521.87956876,\n",
       "       1450751.99680833, 1049365.49710274, 1387617.65791384,\n",
       "        942962.94484279, 1359129.32843905, 1099643.94065145,\n",
       "       1699054.46743685,  909670.33559953, 1247515.22452716,\n",
       "       1387296.39505692, 1397997.3425282 , 1065441.53204391,\n",
       "       1548789.95136643, 1110840.13056976, 1229354.60226553,\n",
       "       1161252.24112614, 1278068.06881164, 1377234.97095128,\n",
       "        962258.45966191, 1546702.7032643 ,  981910.93920208,\n",
       "       1362663.23189519, 1125264.50043037, 1415245.98025915,\n",
       "       1144812.81227983, 1156103.55618777, 1333161.47714577,\n",
       "       1441410.44217984, 1181433.88324622, 1103429.73373103,\n",
       "        956888.64155369, 1263570.70038641, 1230637.88034002,\n",
       "       1340703.01683709, 1234599.82915362, 1464211.27520451,\n",
       "       1260970.76545527, 1402606.61015759, 1076759.9681886 ,\n",
       "       1357978.86410041, 1457051.51106741, 1059229.77954169,\n",
       "       1463940.83529693, 1274167.08639879, 1273627.18058526,\n",
       "       1322625.30243583, 1118928.64585704, 1592091.60774575,\n",
       "       1159832.09670429, 1702146.84654745, 1324297.07848025,\n",
       "       1217510.08193601, 1411525.80017386, 1132905.420081  ,\n",
       "       1378445.04401748, 1390966.22372651, 1108859.32318684,\n",
       "       1316503.54111016, 1242011.61739255,  959372.83548942,\n",
       "       1232549.33296413, 1075904.0538423 , 1238299.13308013,\n",
       "       1223655.83261664, 1004740.62364143, 1135500.03323396,\n",
       "       1140803.90279638, 1191888.68650064, 1401895.66867063,\n",
       "       1156053.77340514, 1245241.81021425, 1133592.02871308,\n",
       "       1217292.48473146, 1648279.68885789, 1334298.25261553,\n",
       "       1275717.45788829,  980136.13230343, 1638085.79365705,\n",
       "       1738018.2415247 , 1542737.30849568,  925698.65713559,\n",
       "       1493930.00610892, 1328958.52780628, 1260238.02042423,\n",
       "        825376.54417167, 1130450.69345378, 1248988.92593422,\n",
       "       1170197.05851289, 1071675.45414641, 1084907.36610606,\n",
       "        820415.65701497, 1271600.52144214, 1458688.56934594,\n",
       "       1334685.05499772, 1391588.9134483 , 1647727.38138715,\n",
       "       1002500.13634064, 1715230.76912134, 1233859.7049969 ,\n",
       "       1560563.9783821 , 1277989.779618  , 1371499.03156153,\n",
       "       1279600.01160609, 1112515.59123611, 1525184.72232267,\n",
       "       1342263.89676008, 1542348.79205108, 1389817.70846523,\n",
       "       1022653.48515284, 1257816.14003618, 1391303.1198036 ,\n",
       "       1575824.25151725, 1162466.12190711, 1245642.99082818,\n",
       "        975483.64125745,  935771.95250363,  988731.29814455,\n",
       "       1384592.99060562,  822587.58847888, 1333551.94094915,\n",
       "       1199683.14266317,  929018.64006072, 1477954.22888854,\n",
       "       1358828.67149519, 1303960.87643764, 1064835.39605331,\n",
       "        905201.42431097,  941964.26965629,  716758.7566879 ,\n",
       "       1322202.48283124, 1210167.01279844, 1140457.88775261,\n",
       "       1411383.99851258, 1244066.87381626, 1388603.93187278,\n",
       "       1306100.16552819,  950242.11676704, 1301749.72733752,\n",
       "       1748811.39605845, 1446480.19668176, 1670601.12855151,\n",
       "       1342595.4671922 , 1311691.59564385, 1752636.39925548,\n",
       "       1090338.31967972, 1467162.22988075, 1466578.87487301,\n",
       "       1267794.4994616 , 1387169.59396587, 1317163.43193677,\n",
       "       1091042.180858  , 1254916.98338501, 1411549.9525785 ,\n",
       "       1207197.32910641, 1355010.81434228, 1374286.44096766,\n",
       "        952880.5995203 , 1316552.88093043, 1413951.37334707,\n",
       "       1360902.36585129, 1459042.98735564, 1385030.98800835,\n",
       "       1216174.52785815, 1222604.61526266, 1347592.08349538,\n",
       "       1471642.74326012,  960159.80345298, 1125325.94996514,\n",
       "       1422421.49662763,  765152.56831757, 1500239.41677445,\n",
       "       1376241.17909184,  967678.38729658, 1185969.48400066,\n",
       "       1303791.99542595,  836582.01546188, 1211827.25076892,\n",
       "        700182.42518936, 1403760.63323265,  745700.92108103,\n",
       "       1356195.13866373, 1094064.80564142, 1287506.74497881,\n",
       "       1517332.70962435, 1401736.4151086 , 1457697.28832263,\n",
       "       1093164.22621004, 1052895.75868646,  959047.70970855,\n",
       "       1095018.59018006,  947697.77103448, 1775210.19022439,\n",
       "        852418.04428686, 1365116.770988  , 1562507.74083557,\n",
       "       1238441.72635941, 1051244.87362351,  980668.43085064,\n",
       "       1678986.57126297, 1195801.64952015, 1615464.38917511,\n",
       "       1524632.01957998, 1080113.90003273, 1087016.80937224,\n",
       "       1302511.69026909, 1565807.66242067, 1339606.75931933,\n",
       "       1262028.12026545, 1558038.69184629, 1182228.87480057,\n",
       "        985857.83782163, 1298571.55552583, 1408950.49347744,\n",
       "       1434635.79407453, 1276161.85568899,  996222.7736368 ,\n",
       "        935929.26794421, 1097824.51485439,  987970.21855985,\n",
       "       1279001.31295784, 1485888.78382067,  994458.45626734,\n",
       "       1275121.18113998,  919671.4611851 , 1596581.50238911,\n",
       "       1338116.07324875,  801406.54636384, 1232398.36808289,\n",
       "       1149572.60999132, 1150330.31451216, 1164911.34116999,\n",
       "       1267106.29513386, 1237707.04385138, 1282727.0008569 ,\n",
       "       1237033.62892413, 1433045.87390858, 1055099.7492828 ,\n",
       "       1328734.45888296, 1361068.71647808, 1317531.67372339,\n",
       "        985883.9964462 , 1212371.79458313, 1176904.24229043,\n",
       "       1441282.86128599])"
      ]
     },
     "execution_count": 42,
     "metadata": {},
     "output_type": "execute_result"
    }
   ],
   "source": [
    "predictions"
   ]
  },
  {
   "cell_type": "code",
   "execution_count": 43,
   "id": "5193eb81",
   "metadata": {},
   "outputs": [
    {
     "data": {
      "text/plain": [
       "3218    1243838\n",
       "2230     849566\n",
       "1843    1712929\n",
       "1763     896303\n",
       "2165     777144\n",
       "         ...   \n",
       "2073    1806231\n",
       "4196    1079408\n",
       "4988    1275143\n",
       "366      821859\n",
       "1416    1656080\n",
       "Name: Price, Length: 1000, dtype: int32"
      ]
     },
     "execution_count": 43,
     "metadata": {},
     "output_type": "execute_result"
    }
   ],
   "source": [
    "y_test"
   ]
  },
  {
   "cell_type": "code",
   "execution_count": null,
   "id": "f4f3bf89",
   "metadata": {},
   "outputs": [],
   "source": []
  }
 ],
 "metadata": {
  "kernelspec": {
   "display_name": "Python 3 (ipykernel)",
   "language": "python",
   "name": "python3"
  },
  "language_info": {
   "codemirror_mode": {
    "name": "ipython",
    "version": 3
   },
   "file_extension": ".py",
   "mimetype": "text/x-python",
   "name": "python",
   "nbconvert_exporter": "python",
   "pygments_lexer": "ipython3",
   "version": "3.10.9"
  }
 },
 "nbformat": 4,
 "nbformat_minor": 5
}
